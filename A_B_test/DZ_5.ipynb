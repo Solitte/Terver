{
 "cells": [
  {
   "cell_type": "markdown",
   "source": [
    "## Урок 5. _Применение математической статистики для проверки гипотез в реальной жизни для популярных метрик_\n",
    "### Задание 1\n",
    " Вы провели эксперимент c упрощением формы заказа в магазине Утконос и получили результаты по метрике конверсий в покупку. Выберите метод оценки и оцените есть ли стат.значимые различия между конверсиями в двух группах при alpha = 5%. Дайте краткие рекомендации команде .Результаты: 1)Число юзеров в группах , которые заходили на сайт в период эксперимента: n1 = 15550 и n2 = 15550 . 2) Число юзеров в группах , которые совершили хотя бы одну покупку за период эксперимента: m1 = 164 и m2 = 228 3) Конверсии : conv1 = 1.05% conv2 = 1.47% .\n"
   ],
   "metadata": {
    "collapsed": false,
    "pycharm": {
     "name": "#%% md\n"
    }
   }
  },
  {
   "cell_type": "code",
   "execution_count": 4,
   "outputs": [
    {
     "name": "stdout",
     "output_type": "stream",
     "text": [
      "P(-0.006595496512346172 < delta_conversion < -0.0016360147416731208) = 0.95\n",
      "Конверсия в группе B больше, выкатываем новую версию\n"
     ]
    }
   ],
   "source": [
    "from scipy import stats as s\n",
    "def DeltaConversion(a, m1, m2, n1, n2):\n",
    "    za = s.norm.ppf(1 - a / 2)\n",
    "    p_all = (m1 + m2) / (n1 + n2)\n",
    "    s_delta = (p_all * (1 - p_all) * (1/n1 + 1/n2))**0.5\n",
    "    delta = m1/n1 - m2/n2\n",
    "    print(f'P({delta - za * s_delta} < delta_conversion < {delta + za * s_delta}) = 0.95')\n",
    "    if delta - za * s_delta < 0 < delta + za * s_delta:\n",
    "        print('Нет разницы между группами, оставляем вариант А')\n",
    "    if delta + za * s_delta < 0:\n",
    "        print('Конверсия в группе B больше, выкатываем новую версию')\n",
    "    if delta - za * s_delta > 0:\n",
    "        print('Конверсия в группе A больше, оставляем вариант А')\n",
    "\n",
    "a = 0.05\n",
    "m1 = 164\n",
    "m2 = 228\n",
    "n1 = 15550\n",
    "n2 = 15550\n",
    "DeltaConversion(a, m1, m2, n1, n2)"
   ],
   "metadata": {
    "collapsed": false,
    "pycharm": {
     "name": "#%%\n"
    }
   }
  },
  {
   "cell_type": "markdown",
   "source": [
    "### Задание 2\n",
    "Сравниваем метрику конверсия в покупку. Размер выборки - 10000 элементов в каждой группе .\n",
    "Какой статистический критерий тут лучше всего подойдёт и почему ?"
   ],
   "metadata": {
    "collapsed": false,
    "pycharm": {
     "name": "#%% md\n"
    }
   }
  },
  {
   "cell_type": "markdown",
   "source": [
    "Z критерий для сравнения долей, потому что конверсия - это доля, объем выборки достаточно большой, нормальное распределение, две независимые группы."
   ],
   "metadata": {
    "collapsed": false,
    "pycharm": {
     "name": "#%% md\n"
    }
   }
  }
 ],
 "metadata": {
  "kernelspec": {
   "display_name": "Python 3",
   "language": "python",
   "name": "python3"
  },
  "language_info": {
   "codemirror_mode": {
    "name": "ipython",
    "version": 2
   },
   "file_extension": ".py",
   "mimetype": "text/x-python",
   "name": "python",
   "nbconvert_exporter": "python",
   "pygments_lexer": "ipython2",
   "version": "2.7.6"
  }
 },
 "nbformat": 4,
 "nbformat_minor": 0
}