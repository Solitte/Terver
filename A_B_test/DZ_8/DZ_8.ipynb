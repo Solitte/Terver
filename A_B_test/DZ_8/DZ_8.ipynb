{
 "cells": [
  {
   "cell_type": "markdown",
   "source": [
    "### Урок 8. Python применение статистических критериев на практике - пайплайн оценки A/B\n",
    "На сайте запущен А/В тест с целью увеличить доход. В приложенном excel файле вы найдете сырые данные по результатам эксперимента – user_id, тип выборки variant_name и доход принесенный пользователем revenue.\n",
    "Проанализируйте результаты эксперимента и напишите свои рекомендации менеджеру."
   ],
   "metadata": {
    "collapsed": false,
    "pycharm": {
     "name": "#%% md\n"
    }
   }
  },
  {
   "cell_type": "code",
   "execution_count": 61,
   "outputs": [],
   "source": [
    "import scipy.stats as s\n",
    "import numpy as np\n",
    "\n",
    "import warnings\n",
    "warnings.filterwarnings('ignore')\n",
    "warnings.warn('DelftStack')\n",
    "warnings.warn('Do not show this message')\n",
    "import matplotlib.pyplot as plt\n",
    "import seaborn as sns\n",
    "import pandas as pd"
   ],
   "metadata": {
    "collapsed": false,
    "pycharm": {
     "name": "#%%\n"
    }
   }
  },
  {
   "cell_type": "code",
   "execution_count": 62,
   "outputs": [],
   "source": [
    "def H0(stats,alpha):\n",
    "    print(f'{stats}, alpha={alpha}')\n",
    "    if stats[1] > alpha:\n",
    "        print('Статистических различий между группами нет')\n",
    "    else:\n",
    "        print('Статистические различия между группами есть')"
   ],
   "metadata": {
    "collapsed": false,
    "pycharm": {
     "name": "#%%\n"
    }
   }
  },
  {
   "cell_type": "code",
   "execution_count": 63,
   "outputs": [
    {
     "data": {
      "text/plain": "   USER_ID VARIANT_NAME  REVENUE\n0      737      variant      0.0\n1     2423      control      0.0\n2     9411      control      0.0\n3     7311      control      0.0\n4     6174      variant      0.0\n5     2380      variant      0.0\n6     2849      control      0.0\n7     9168      control      0.0\n8     6205      variant      0.0\n9     7548      control      0.0",
      "text/html": "<div>\n<style scoped>\n    .dataframe tbody tr th:only-of-type {\n        vertical-align: middle;\n    }\n\n    .dataframe tbody tr th {\n        vertical-align: top;\n    }\n\n    .dataframe thead th {\n        text-align: right;\n    }\n</style>\n<table border=\"1\" class=\"dataframe\">\n  <thead>\n    <tr style=\"text-align: right;\">\n      <th></th>\n      <th>USER_ID</th>\n      <th>VARIANT_NAME</th>\n      <th>REVENUE</th>\n    </tr>\n  </thead>\n  <tbody>\n    <tr>\n      <th>0</th>\n      <td>737</td>\n      <td>variant</td>\n      <td>0.0</td>\n    </tr>\n    <tr>\n      <th>1</th>\n      <td>2423</td>\n      <td>control</td>\n      <td>0.0</td>\n    </tr>\n    <tr>\n      <th>2</th>\n      <td>9411</td>\n      <td>control</td>\n      <td>0.0</td>\n    </tr>\n    <tr>\n      <th>3</th>\n      <td>7311</td>\n      <td>control</td>\n      <td>0.0</td>\n    </tr>\n    <tr>\n      <th>4</th>\n      <td>6174</td>\n      <td>variant</td>\n      <td>0.0</td>\n    </tr>\n    <tr>\n      <th>5</th>\n      <td>2380</td>\n      <td>variant</td>\n      <td>0.0</td>\n    </tr>\n    <tr>\n      <th>6</th>\n      <td>2849</td>\n      <td>control</td>\n      <td>0.0</td>\n    </tr>\n    <tr>\n      <th>7</th>\n      <td>9168</td>\n      <td>control</td>\n      <td>0.0</td>\n    </tr>\n    <tr>\n      <th>8</th>\n      <td>6205</td>\n      <td>variant</td>\n      <td>0.0</td>\n    </tr>\n    <tr>\n      <th>9</th>\n      <td>7548</td>\n      <td>control</td>\n      <td>0.0</td>\n    </tr>\n  </tbody>\n</table>\n</div>"
     },
     "execution_count": 63,
     "metadata": {},
     "output_type": "execute_result"
    }
   ],
   "source": [
    "df = pd.read_excel('AB_Test_Results.xlsx')\n",
    "df.head(10)"
   ],
   "metadata": {
    "collapsed": false,
    "pycharm": {
     "name": "#%%\n"
    }
   }
  },
  {
   "cell_type": "code",
   "execution_count": 64,
   "outputs": [
    {
     "name": "stdout",
     "output_type": "stream",
     "text": [
      "<class 'pandas.core.frame.DataFrame'>\n",
      "RangeIndex: 10000 entries, 0 to 9999\n",
      "Data columns (total 3 columns):\n",
      " #   Column        Non-Null Count  Dtype  \n",
      "---  ------        --------------  -----  \n",
      " 0   USER_ID       10000 non-null  int64  \n",
      " 1   VARIANT_NAME  10000 non-null  object \n",
      " 2   REVENUE       10000 non-null  float64\n",
      "dtypes: float64(1), int64(1), object(1)\n",
      "memory usage: 234.5+ KB\n"
     ]
    }
   ],
   "source": [
    "df.info()"
   ],
   "metadata": {
    "collapsed": false,
    "pycharm": {
     "name": "#%%\n"
    }
   }
  },
  {
   "cell_type": "code",
   "execution_count": 65,
   "outputs": [
    {
     "data": {
      "text/plain": "            USER_ID       REVENUE\ncount  10000.000000  10000.000000\nmean    4981.080200      0.099447\nstd     2890.590115      2.318529\nmin        2.000000      0.000000\n25%     2468.750000      0.000000\n50%     4962.000000      0.000000\n75%     7511.500000      0.000000\nmax    10000.000000    196.010000",
      "text/html": "<div>\n<style scoped>\n    .dataframe tbody tr th:only-of-type {\n        vertical-align: middle;\n    }\n\n    .dataframe tbody tr th {\n        vertical-align: top;\n    }\n\n    .dataframe thead th {\n        text-align: right;\n    }\n</style>\n<table border=\"1\" class=\"dataframe\">\n  <thead>\n    <tr style=\"text-align: right;\">\n      <th></th>\n      <th>USER_ID</th>\n      <th>REVENUE</th>\n    </tr>\n  </thead>\n  <tbody>\n    <tr>\n      <th>count</th>\n      <td>10000.000000</td>\n      <td>10000.000000</td>\n    </tr>\n    <tr>\n      <th>mean</th>\n      <td>4981.080200</td>\n      <td>0.099447</td>\n    </tr>\n    <tr>\n      <th>std</th>\n      <td>2890.590115</td>\n      <td>2.318529</td>\n    </tr>\n    <tr>\n      <th>min</th>\n      <td>2.000000</td>\n      <td>0.000000</td>\n    </tr>\n    <tr>\n      <th>25%</th>\n      <td>2468.750000</td>\n      <td>0.000000</td>\n    </tr>\n    <tr>\n      <th>50%</th>\n      <td>4962.000000</td>\n      <td>0.000000</td>\n    </tr>\n    <tr>\n      <th>75%</th>\n      <td>7511.500000</td>\n      <td>0.000000</td>\n    </tr>\n    <tr>\n      <th>max</th>\n      <td>10000.000000</td>\n      <td>196.010000</td>\n    </tr>\n  </tbody>\n</table>\n</div>"
     },
     "execution_count": 65,
     "metadata": {},
     "output_type": "execute_result"
    }
   ],
   "source": [
    "df.describe()"
   ],
   "metadata": {
    "collapsed": false,
    "pycharm": {
     "name": "#%%\n"
    }
   }
  },
  {
   "cell_type": "code",
   "execution_count": 66,
   "outputs": [
    {
     "data": {
      "text/plain": "USER_ID         0\nVARIANT_NAME    0\nREVENUE         0\ndtype: int64"
     },
     "execution_count": 66,
     "metadata": {},
     "output_type": "execute_result"
    }
   ],
   "source": [
    "df.isnull().sum()"
   ],
   "metadata": {
    "collapsed": false,
    "pycharm": {
     "name": "#%%\n"
    }
   }
  },
  {
   "cell_type": "code",
   "execution_count": 67,
   "outputs": [
    {
     "data": {
      "text/plain": "VARIANT_NAME\nvariant    5016\ncontrol    4984\nName: count, dtype: int64"
     },
     "execution_count": 67,
     "metadata": {},
     "output_type": "execute_result"
    }
   ],
   "source": [
    "df.VARIANT_NAME.value_counts()"
   ],
   "metadata": {
    "collapsed": false,
    "pycharm": {
     "name": "#%%\n"
    }
   }
  },
  {
   "cell_type": "code",
   "execution_count": 80,
   "outputs": [
    {
     "data": {
      "text/plain": "   USER_ID  VARIANT_NAME\n0        2             1\n1        3             2\n2        4             1\n3        5             1\n4        6             1",
      "text/html": "<div>\n<style scoped>\n    .dataframe tbody tr th:only-of-type {\n        vertical-align: middle;\n    }\n\n    .dataframe tbody tr th {\n        vertical-align: top;\n    }\n\n    .dataframe thead th {\n        text-align: right;\n    }\n</style>\n<table border=\"1\" class=\"dataframe\">\n  <thead>\n    <tr style=\"text-align: right;\">\n      <th></th>\n      <th>USER_ID</th>\n      <th>VARIANT_NAME</th>\n    </tr>\n  </thead>\n  <tbody>\n    <tr>\n      <th>0</th>\n      <td>2</td>\n      <td>1</td>\n    </tr>\n    <tr>\n      <th>1</th>\n      <td>3</td>\n      <td>2</td>\n    </tr>\n    <tr>\n      <th>2</th>\n      <td>4</td>\n      <td>1</td>\n    </tr>\n    <tr>\n      <th>3</th>\n      <td>5</td>\n      <td>1</td>\n    </tr>\n    <tr>\n      <th>4</th>\n      <td>6</td>\n      <td>1</td>\n    </tr>\n  </tbody>\n</table>\n</div>"
     },
     "execution_count": 80,
     "metadata": {},
     "output_type": "execute_result"
    }
   ],
   "source": [
    "df2 = df.groupby('USER_ID', as_index=False).agg({'VARIANT_NAME': pd.Series.nunique})\n",
    "df2.head()"
   ],
   "metadata": {
    "collapsed": false,
    "pycharm": {
     "name": "#%%\n"
    }
   }
  },
  {
   "cell_type": "code",
   "execution_count": 81,
   "outputs": [
    {
     "name": "stdout",
     "output_type": "stream",
     "text": [
      "<class 'pandas.core.frame.DataFrame'>\n",
      "RangeIndex: 6324 entries, 0 to 6323\n",
      "Data columns (total 2 columns):\n",
      " #   Column        Non-Null Count  Dtype\n",
      "---  ------        --------------  -----\n",
      " 0   USER_ID       6324 non-null   int64\n",
      " 1   VARIANT_NAME  6324 non-null   int64\n",
      "dtypes: int64(2)\n",
      "memory usage: 98.9 KB\n"
     ]
    }
   ],
   "source": [
    "df2.info()"
   ],
   "metadata": {
    "collapsed": false,
    "pycharm": {
     "name": "#%%\n"
    }
   }
  },
  {
   "cell_type": "code",
   "execution_count": 69,
   "outputs": [
    {
     "data": {
      "text/plain": "      USER_ID  VARIANT_NAME\n1           3             2\n6          10             2\n11         18             2\n15         25             2\n23         40             2\n...       ...           ...\n6310     9978             2\n6311     9979             2\n6313     9982             2\n6321     9996             2\n6323    10000             2\n\n[1541 rows x 2 columns]",
      "text/html": "<div>\n<style scoped>\n    .dataframe tbody tr th:only-of-type {\n        vertical-align: middle;\n    }\n\n    .dataframe tbody tr th {\n        vertical-align: top;\n    }\n\n    .dataframe thead th {\n        text-align: right;\n    }\n</style>\n<table border=\"1\" class=\"dataframe\">\n  <thead>\n    <tr style=\"text-align: right;\">\n      <th></th>\n      <th>USER_ID</th>\n      <th>VARIANT_NAME</th>\n    </tr>\n  </thead>\n  <tbody>\n    <tr>\n      <th>1</th>\n      <td>3</td>\n      <td>2</td>\n    </tr>\n    <tr>\n      <th>6</th>\n      <td>10</td>\n      <td>2</td>\n    </tr>\n    <tr>\n      <th>11</th>\n      <td>18</td>\n      <td>2</td>\n    </tr>\n    <tr>\n      <th>15</th>\n      <td>25</td>\n      <td>2</td>\n    </tr>\n    <tr>\n      <th>23</th>\n      <td>40</td>\n      <td>2</td>\n    </tr>\n    <tr>\n      <th>...</th>\n      <td>...</td>\n      <td>...</td>\n    </tr>\n    <tr>\n      <th>6310</th>\n      <td>9978</td>\n      <td>2</td>\n    </tr>\n    <tr>\n      <th>6311</th>\n      <td>9979</td>\n      <td>2</td>\n    </tr>\n    <tr>\n      <th>6313</th>\n      <td>9982</td>\n      <td>2</td>\n    </tr>\n    <tr>\n      <th>6321</th>\n      <td>9996</td>\n      <td>2</td>\n    </tr>\n    <tr>\n      <th>6323</th>\n      <td>10000</td>\n      <td>2</td>\n    </tr>\n  </tbody>\n</table>\n<p>1541 rows × 2 columns</p>\n</div>"
     },
     "execution_count": 69,
     "metadata": {},
     "output_type": "execute_result"
    }
   ],
   "source": [
    "more_than_one_types = df2.loc[df2['VARIANT_NAME'] > 1]\n",
    "more_than_one_types\n"
   ],
   "metadata": {
    "collapsed": false,
    "pycharm": {
     "name": "#%%\n"
    }
   }
  },
  {
   "cell_type": "code",
   "execution_count": 70,
   "outputs": [
    {
     "data": {
      "text/plain": "(6070, 3)"
     },
     "execution_count": 70,
     "metadata": {},
     "output_type": "execute_result"
    }
   ],
   "source": [
    "# Способ удаления дубликатов из лекции\n",
    "df_lekciya = df[~df.USER_ID.isin(more_than_one_types.USER_ID)].sort_values('USER_ID')\n",
    "df_lekciya.head(100)\n",
    "df_lekciya.shape\n"
   ],
   "metadata": {
    "collapsed": false,
    "pycharm": {
     "name": "#%%\n"
    }
   }
  },
  {
   "cell_type": "code",
   "execution_count": 71,
   "outputs": [
    {
     "data": {
      "text/plain": "      USER_ID VARIANT_NAME  REVENUE\n9077        4      variant      0.0\n9155        5      variant      0.0\n7720        6      variant      0.0\n3920        9      variant      0.0\n9661       12      control      0.0\n...       ...          ...      ...\n4947      244      control      0.0\n3297      251      variant      0.0\n8622      253      control      0.0\n4999      260      variant      0.0\n2812      262      control      0.0\n\n[100 rows x 3 columns]",
      "text/html": "<div>\n<style scoped>\n    .dataframe tbody tr th:only-of-type {\n        vertical-align: middle;\n    }\n\n    .dataframe tbody tr th {\n        vertical-align: top;\n    }\n\n    .dataframe thead th {\n        text-align: right;\n    }\n</style>\n<table border=\"1\" class=\"dataframe\">\n  <thead>\n    <tr style=\"text-align: right;\">\n      <th></th>\n      <th>USER_ID</th>\n      <th>VARIANT_NAME</th>\n      <th>REVENUE</th>\n    </tr>\n  </thead>\n  <tbody>\n    <tr>\n      <th>9077</th>\n      <td>4</td>\n      <td>variant</td>\n      <td>0.0</td>\n    </tr>\n    <tr>\n      <th>9155</th>\n      <td>5</td>\n      <td>variant</td>\n      <td>0.0</td>\n    </tr>\n    <tr>\n      <th>7720</th>\n      <td>6</td>\n      <td>variant</td>\n      <td>0.0</td>\n    </tr>\n    <tr>\n      <th>3920</th>\n      <td>9</td>\n      <td>variant</td>\n      <td>0.0</td>\n    </tr>\n    <tr>\n      <th>9661</th>\n      <td>12</td>\n      <td>control</td>\n      <td>0.0</td>\n    </tr>\n    <tr>\n      <th>...</th>\n      <td>...</td>\n      <td>...</td>\n      <td>...</td>\n    </tr>\n    <tr>\n      <th>4947</th>\n      <td>244</td>\n      <td>control</td>\n      <td>0.0</td>\n    </tr>\n    <tr>\n      <th>3297</th>\n      <td>251</td>\n      <td>variant</td>\n      <td>0.0</td>\n    </tr>\n    <tr>\n      <th>8622</th>\n      <td>253</td>\n      <td>control</td>\n      <td>0.0</td>\n    </tr>\n    <tr>\n      <th>4999</th>\n      <td>260</td>\n      <td>variant</td>\n      <td>0.0</td>\n    </tr>\n    <tr>\n      <th>2812</th>\n      <td>262</td>\n      <td>control</td>\n      <td>0.0</td>\n    </tr>\n  </tbody>\n</table>\n<p>100 rows × 3 columns</p>\n</div>"
     },
     "execution_count": 71,
     "metadata": {},
     "output_type": "execute_result"
    }
   ],
   "source": [
    "# Способ удаления дубликатов методом drop_duplicates\n",
    "df_new = df.drop_duplicates(subset=['USER_ID'], keep=False).sort_values('USER_ID')\n",
    "df_new.head(100)"
   ],
   "metadata": {
    "collapsed": false,
    "pycharm": {
     "name": "#%%\n"
    }
   }
  },
  {
   "cell_type": "code",
   "execution_count": 72,
   "outputs": [
    {
     "data": {
      "text/plain": "(3664, 3)"
     },
     "execution_count": 72,
     "metadata": {},
     "output_type": "execute_result"
    }
   ],
   "source": [
    "df_new.shape"
   ],
   "metadata": {
    "collapsed": false,
    "pycharm": {
     "name": "#%%\n"
    }
   }
  },
  {
   "cell_type": "code",
   "execution_count": 73,
   "outputs": [
    {
     "data": {
      "text/plain": "VARIANT_NAME\ncontrol    1834\nvariant    1830\nName: count, dtype: int64"
     },
     "execution_count": 73,
     "metadata": {},
     "output_type": "execute_result"
    }
   ],
   "source": [
    "df_new.VARIANT_NAME.value_counts()"
   ],
   "metadata": {
    "collapsed": false,
    "pycharm": {
     "name": "#%%\n"
    }
   }
  },
  {
   "cell_type": "markdown",
   "source": [
    "### Рекомендации\n",
    "Проведенный анализ, позволяет сделать вывод, что сплит система настроена не верно, А/В - тест стоит переделать, т.к. выборка уникальных пользователей\n",
    "не 10000, а 3664 пользователя. Сплит система добавляла пользователя в разные группы и не однократно."
   ],
   "metadata": {
    "collapsed": false,
    "pycharm": {
     "name": "#%% md\n"
    }
   }
  },
  {
   "cell_type": "markdown",
   "source": [
    "_Если игнорировать несовершенство сплит системы, идем дльше ;)_"
   ],
   "metadata": {
    "collapsed": false,
    "pycharm": {
     "name": "#%% md\n"
    }
   }
  },
  {
   "cell_type": "code",
   "execution_count": 83,
   "outputs": [
    {
     "data": {
      "text/plain": "      USER_ID VARIANT_NAME  REVENUE\n9661       12      control      0.0\n4042       21      control      0.0\n9932       29      control      0.0\n2566       32      control      0.0\n8505       42      control      0.0",
      "text/html": "<div>\n<style scoped>\n    .dataframe tbody tr th:only-of-type {\n        vertical-align: middle;\n    }\n\n    .dataframe tbody tr th {\n        vertical-align: top;\n    }\n\n    .dataframe thead th {\n        text-align: right;\n    }\n</style>\n<table border=\"1\" class=\"dataframe\">\n  <thead>\n    <tr style=\"text-align: right;\">\n      <th></th>\n      <th>USER_ID</th>\n      <th>VARIANT_NAME</th>\n      <th>REVENUE</th>\n    </tr>\n  </thead>\n  <tbody>\n    <tr>\n      <th>9661</th>\n      <td>12</td>\n      <td>control</td>\n      <td>0.0</td>\n    </tr>\n    <tr>\n      <th>4042</th>\n      <td>21</td>\n      <td>control</td>\n      <td>0.0</td>\n    </tr>\n    <tr>\n      <th>9932</th>\n      <td>29</td>\n      <td>control</td>\n      <td>0.0</td>\n    </tr>\n    <tr>\n      <th>2566</th>\n      <td>32</td>\n      <td>control</td>\n      <td>0.0</td>\n    </tr>\n    <tr>\n      <th>8505</th>\n      <td>42</td>\n      <td>control</td>\n      <td>0.0</td>\n    </tr>\n  </tbody>\n</table>\n</div>"
     },
     "execution_count": 83,
     "metadata": {},
     "output_type": "execute_result"
    }
   ],
   "source": [
    "control = df_new.loc[df_new['VARIANT_NAME'] == 'control']\n",
    "control.head()"
   ],
   "metadata": {
    "collapsed": false,
    "pycharm": {
     "name": "#%%\n"
    }
   }
  },
  {
   "cell_type": "code",
   "execution_count": 82,
   "outputs": [
    {
     "data": {
      "text/plain": "           USER_ID      REVENUE\ncount  1834.000000  1834.000000\nmean   5049.845692     0.182694\nstd    2879.580387     4.653008\nmin      12.000000     0.000000\n25%    2591.500000     0.000000\n50%    5047.500000     0.000000\n75%    7615.000000     0.000000\nmax    9998.000000   196.010000",
      "text/html": "<div>\n<style scoped>\n    .dataframe tbody tr th:only-of-type {\n        vertical-align: middle;\n    }\n\n    .dataframe tbody tr th {\n        vertical-align: top;\n    }\n\n    .dataframe thead th {\n        text-align: right;\n    }\n</style>\n<table border=\"1\" class=\"dataframe\">\n  <thead>\n    <tr style=\"text-align: right;\">\n      <th></th>\n      <th>USER_ID</th>\n      <th>REVENUE</th>\n    </tr>\n  </thead>\n  <tbody>\n    <tr>\n      <th>count</th>\n      <td>1834.000000</td>\n      <td>1834.000000</td>\n    </tr>\n    <tr>\n      <th>mean</th>\n      <td>5049.845692</td>\n      <td>0.182694</td>\n    </tr>\n    <tr>\n      <th>std</th>\n      <td>2879.580387</td>\n      <td>4.653008</td>\n    </tr>\n    <tr>\n      <th>min</th>\n      <td>12.000000</td>\n      <td>0.000000</td>\n    </tr>\n    <tr>\n      <th>25%</th>\n      <td>2591.500000</td>\n      <td>0.000000</td>\n    </tr>\n    <tr>\n      <th>50%</th>\n      <td>5047.500000</td>\n      <td>0.000000</td>\n    </tr>\n    <tr>\n      <th>75%</th>\n      <td>7615.000000</td>\n      <td>0.000000</td>\n    </tr>\n    <tr>\n      <th>max</th>\n      <td>9998.000000</td>\n      <td>196.010000</td>\n    </tr>\n  </tbody>\n</table>\n</div>"
     },
     "execution_count": 82,
     "metadata": {},
     "output_type": "execute_result"
    }
   ],
   "source": [
    "control.describe()"
   ],
   "metadata": {
    "collapsed": false,
    "pycharm": {
     "name": "#%%\n"
    }
   }
  },
  {
   "cell_type": "code",
   "execution_count": 84,
   "outputs": [
    {
     "data": {
      "text/plain": "      USER_ID VARIANT_NAME  REVENUE\n9077        4      variant      0.0\n9155        5      variant      0.0\n7720        6      variant      0.0\n3920        9      variant      0.0\n9943       19      variant      0.0",
      "text/html": "<div>\n<style scoped>\n    .dataframe tbody tr th:only-of-type {\n        vertical-align: middle;\n    }\n\n    .dataframe tbody tr th {\n        vertical-align: top;\n    }\n\n    .dataframe thead th {\n        text-align: right;\n    }\n</style>\n<table border=\"1\" class=\"dataframe\">\n  <thead>\n    <tr style=\"text-align: right;\">\n      <th></th>\n      <th>USER_ID</th>\n      <th>VARIANT_NAME</th>\n      <th>REVENUE</th>\n    </tr>\n  </thead>\n  <tbody>\n    <tr>\n      <th>9077</th>\n      <td>4</td>\n      <td>variant</td>\n      <td>0.0</td>\n    </tr>\n    <tr>\n      <th>9155</th>\n      <td>5</td>\n      <td>variant</td>\n      <td>0.0</td>\n    </tr>\n    <tr>\n      <th>7720</th>\n      <td>6</td>\n      <td>variant</td>\n      <td>0.0</td>\n    </tr>\n    <tr>\n      <th>3920</th>\n      <td>9</td>\n      <td>variant</td>\n      <td>0.0</td>\n    </tr>\n    <tr>\n      <th>9943</th>\n      <td>19</td>\n      <td>variant</td>\n      <td>0.0</td>\n    </tr>\n  </tbody>\n</table>\n</div>"
     },
     "execution_count": 84,
     "metadata": {},
     "output_type": "execute_result"
    }
   ],
   "source": [
    "variant = df_new.loc[df_new['VARIANT_NAME'] == 'variant']\n",
    "variant.head()"
   ],
   "metadata": {
    "collapsed": false,
    "pycharm": {
     "name": "#%%\n"
    }
   }
  },
  {
   "cell_type": "code",
   "execution_count": 85,
   "outputs": [
    {
     "data": {
      "text/plain": "           USER_ID      REVENUE\ncount  1830.000000  1830.000000\nmean   4966.748087     0.066563\nstd    2916.198883     0.882727\nmin       4.000000     0.000000\n25%    2393.500000     0.000000\n50%    4973.000000     0.000000\n75%    7418.750000     0.000000\nmax    9990.000000    23.040000",
      "text/html": "<div>\n<style scoped>\n    .dataframe tbody tr th:only-of-type {\n        vertical-align: middle;\n    }\n\n    .dataframe tbody tr th {\n        vertical-align: top;\n    }\n\n    .dataframe thead th {\n        text-align: right;\n    }\n</style>\n<table border=\"1\" class=\"dataframe\">\n  <thead>\n    <tr style=\"text-align: right;\">\n      <th></th>\n      <th>USER_ID</th>\n      <th>REVENUE</th>\n    </tr>\n  </thead>\n  <tbody>\n    <tr>\n      <th>count</th>\n      <td>1830.000000</td>\n      <td>1830.000000</td>\n    </tr>\n    <tr>\n      <th>mean</th>\n      <td>4966.748087</td>\n      <td>0.066563</td>\n    </tr>\n    <tr>\n      <th>std</th>\n      <td>2916.198883</td>\n      <td>0.882727</td>\n    </tr>\n    <tr>\n      <th>min</th>\n      <td>4.000000</td>\n      <td>0.000000</td>\n    </tr>\n    <tr>\n      <th>25%</th>\n      <td>2393.500000</td>\n      <td>0.000000</td>\n    </tr>\n    <tr>\n      <th>50%</th>\n      <td>4973.000000</td>\n      <td>0.000000</td>\n    </tr>\n    <tr>\n      <th>75%</th>\n      <td>7418.750000</td>\n      <td>0.000000</td>\n    </tr>\n    <tr>\n      <th>max</th>\n      <td>9990.000000</td>\n      <td>23.040000</td>\n    </tr>\n  </tbody>\n</table>\n</div>"
     },
     "execution_count": 85,
     "metadata": {},
     "output_type": "execute_result"
    }
   ],
   "source": [
    "variant.describe()"
   ],
   "metadata": {
    "collapsed": false,
    "pycharm": {
     "name": "#%%\n"
    }
   }
  },
  {
   "cell_type": "code",
   "execution_count": 76,
   "outputs": [
    {
     "data": {
      "text/plain": "<Figure size 640x480 with 1 Axes>",
      "image/png": "[encoded data removed]"
     },
     "metadata": {},
     "output_type": "display_data"
    }
   ],
   "source": [
    "control.REVENUE.hist(bins = 50, alpha =0.5, label='Control')\n",
    "variant.REVENUE.hist(bins = 50, alpha =0.5, label='Variant')\n",
    "plt.title('Доход на юзера по группам')\n",
    "plt.xlabel('Доход')\n",
    "plt.ylabel('Число пользователей')\n",
    "plt.legend();"
   ],
   "metadata": {
    "collapsed": false,
    "pycharm": {
     "name": "#%%\n"
    }
   }
  },
  {
   "cell_type": "code",
   "execution_count": 77,
   "outputs": [
    {
     "data": {
      "text/plain": "<Figure size 640x480 with 1 Axes>",
      "image/png": "[encoded data removed]"
     },
     "metadata": {},
     "output_type": "display_data"
    }
   ],
   "source": [
    "plt.boxplot([control.REVENUE,variant.REVENUE],\n",
    "            labels=['Контроль','Вариант'],\n",
    "            widths=0.5\n",
    "           )\n",
    "plt.title('Boxplot по пользователям',  loc='center')\n",
    "plt.grid(axis  ='both')"
   ],
   "metadata": {
    "collapsed": false,
    "pycharm": {
     "name": "#%%\n"
    }
   }
  },
  {
   "cell_type": "code",
   "execution_count": 78,
   "outputs": [
    {
     "name": "stdout",
     "output_type": "stream",
     "text": [
      "Тест на нормальность не пройден, применяем тест Манна-Уитни\n",
      "MannwhitneyuResult(statistic=1679937.5, pvalue=0.7918208568739313), alpha=0.05\n",
      "Статистических различий между группами нет\n"
     ]
    }
   ],
   "source": [
    "a = 0.05\n",
    "if s.shapiro(control.REVENUE).pvalue > a and s.shapiro(variant.REVENUE).pvalue > a:\n",
    "    print('Тест на нормальность пройден, применяем ttest')\n",
    "    H0(s.ttest_ind(control.REVENUE, variant.REVENUE, equal_var = False), a)\n",
    "else:\n",
    "    print('Тест на нормальность не пройден, применяем тест Манна-Уитни')\n",
    "    H0(s.mannwhitneyu(control.REVENUE, variant.REVENUE), a)"
   ],
   "metadata": {
    "collapsed": false,
    "pycharm": {
     "name": "#%%\n"
    }
   }
  },
  {
   "cell_type": "markdown",
   "source": [
    "### Вывод:\n",
    "Оставляем вариан А."
   ],
   "metadata": {
    "collapsed": false,
    "pycharm": {
     "name": "#%% md\n"
    }
   }
  },
  {
   "cell_type": "markdown",
   "source": [
    "Расчет мощности"
   ],
   "metadata": {
    "collapsed": false,
    "pycharm": {
     "name": "#%% md\n"
    }
   }
  },
  {
   "cell_type": "code",
   "execution_count": 79,
   "outputs": [
    {
     "data": {
      "text/plain": "0.18275886733310742"
     },
     "execution_count": 79,
     "metadata": {},
     "output_type": "execute_result"
    }
   ],
   "source": [
    "from statsmodels.stats.power import TTestIndPower\n",
    "\n",
    "C_mean = control.REVENUE.values.mean()\n",
    "V_mean = variant.REVENUE.values.mean()\n",
    "C_std = control.REVENUE.values.std()\n",
    "V_std = variant.REVENUE.values.std()\n",
    "n =  len(control.REVENUE.values)\n",
    "S = np.sqrt((V_std**2 + C_std **2)/ 2)\n",
    "ef =float((V_mean-C_mean)/ S)\n",
    "analysis = TTestIndPower()\n",
    "result = analysis.solve_power(ef, power=None,\n",
    "nobs1=n, ratio=1.0, alpha=a)\n",
    "result"
   ],
   "metadata": {
    "collapsed": false,
    "pycharm": {
     "name": "#%%\n"
    }
   }
  },
  {
   "cell_type": "markdown",
   "source": [
    "Мощность маленькая, поэтому нельзя доверять результатам теста"
   ],
   "metadata": {
    "collapsed": false,
    "pycharm": {
     "name": "#%% md\n"
    }
   }
  },
  {
   "cell_type": "markdown",
   "source": [
    "# Вывод:\n",
    "Настроить сплит систему, переделать А/В-тест. На данном этапе оставляем вариан А."
   ],
   "metadata": {
    "collapsed": false,
    "pycharm": {
     "name": "#%% md\n"
    }
   }
  },
  {
   "cell_type": "markdown",
   "source": [],
   "metadata": {
    "collapsed": false,
    "pycharm": {
     "name": "#%% md\n"
    }
   }
  }
 ],
 "metadata": {
  "kernelspec": {
   "display_name": "Python 3",
   "language": "python",
   "name": "python3"
  },
  "language_info": {
   "codemirror_mode": {
    "name": "ipython",
    "version": 2
   },
   "file_extension": ".py",
   "mimetype": "text/x-python",
   "name": "python",
   "nbconvert_exporter": "python",
   "pygments_lexer": "ipython2",
   "version": "2.7.6"
  }
 },
 "nbformat": 4,
 "nbformat_minor": 0
}