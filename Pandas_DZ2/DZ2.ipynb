{
 "cells": [
  {
   "cell_type": "code",
   "execution_count": 109,
   "outputs": [],
   "source": [
    "import pandas as pd\n",
    "import  numpy as np"
   ],
   "metadata": {
    "collapsed": false,
    "pycharm": {
     "name": "#%%\n"
    }
   }
  },
  {
   "cell_type": "markdown",
   "source": [
    "## Задача 1\n",
    "### 1.1\n",
    "ФАЙЛ С ДОМАМИ ИЗ ПРОШЛОГО ДЗ. Считать данные с помощью pandas.\n",
    "Вывести на экран первые 5 строк."
   ],
   "metadata": {
    "collapsed": false,
    "pycharm": {
     "name": "#%% md\n"
    }
   }
  },
  {
   "cell_type": "code",
   "execution_count": 110,
   "outputs": [
    {
     "data": {
      "text/plain": "           id             date     price  bedrooms  bathrooms  sqft_living  \\\n0  7129300520  20141013T000000  221900.0         3       1.00         1180   \n1  6414100192  20141209T000000  538000.0         3       2.25         2570   \n2  5631500400  20150225T000000  180000.0         2       1.00          770   \n3  2487200875  20141209T000000  604000.0         4       3.00         1960   \n4  1954400510  20150218T000000  510000.0         3       2.00         1680   \n\n   sqft_lot  floors  waterfront  view  ...  grade  sqft_above  sqft_basement  \\\n0      5650     1.0           0     0  ...      7        1180              0   \n1      7242     2.0           0     0  ...      7        2170            400   \n2     10000     1.0           0     0  ...      6         770              0   \n3      5000     1.0           0     0  ...      7        1050            910   \n4      8080     1.0           0     0  ...      8        1680              0   \n\n   yr_built  yr_renovated  zipcode      lat     long  sqft_living15  \\\n0      1955             0    98178  47.5112 -122.257           1340   \n1      1951          1991    98125  47.7210 -122.319           1690   \n2      1933             0    98028  47.7379 -122.233           2720   \n3      1965             0    98136  47.5208 -122.393           1360   \n4      1987             0    98074  47.6168 -122.045           1800   \n\n   sqft_lot15  \n0        5650  \n1        7639  \n2        8062  \n3        5000  \n4        7503  \n\n[5 rows x 21 columns]",
      "text/html": "<div>\n<style scoped>\n    .dataframe tbody tr th:only-of-type {\n        vertical-align: middle;\n    }\n\n    .dataframe tbody tr th {\n        vertical-align: top;\n    }\n\n    .dataframe thead th {\n        text-align: right;\n    }\n</style>\n<table border=\"1\" class=\"dataframe\">\n  <thead>\n    <tr style=\"text-align: right;\">\n      <th></th>\n      <th>id</th>\n      <th>date</th>\n      <th>price</th>\n      <th>bedrooms</th>\n      <th>bathrooms</th>\n      <th>sqft_living</th>\n      <th>sqft_lot</th>\n      <th>floors</th>\n      <th>waterfront</th>\n      <th>view</th>\n      <th>...</th>\n      <th>grade</th>\n      <th>sqft_above</th>\n      <th>sqft_basement</th>\n      <th>yr_built</th>\n      <th>yr_renovated</th>\n      <th>zipcode</th>\n      <th>lat</th>\n      <th>long</th>\n      <th>sqft_living15</th>\n      <th>sqft_lot15</th>\n    </tr>\n  </thead>\n  <tbody>\n    <tr>\n      <th>0</th>\n      <td>7129300520</td>\n      <td>20141013T000000</td>\n      <td>221900.0</td>\n      <td>3</td>\n      <td>1.00</td>\n      <td>1180</td>\n      <td>5650</td>\n      <td>1.0</td>\n      <td>0</td>\n      <td>0</td>\n      <td>...</td>\n      <td>7</td>\n      <td>1180</td>\n      <td>0</td>\n      <td>1955</td>\n      <td>0</td>\n      <td>98178</td>\n      <td>47.5112</td>\n      <td>-122.257</td>\n      <td>1340</td>\n      <td>5650</td>\n    </tr>\n    <tr>\n      <th>1</th>\n      <td>6414100192</td>\n      <td>20141209T000000</td>\n      <td>538000.0</td>\n      <td>3</td>\n      <td>2.25</td>\n      <td>2570</td>\n      <td>7242</td>\n      <td>2.0</td>\n      <td>0</td>\n      <td>0</td>\n      <td>...</td>\n      <td>7</td>\n      <td>2170</td>\n      <td>400</td>\n      <td>1951</td>\n      <td>1991</td>\n      <td>98125</td>\n      <td>47.7210</td>\n      <td>-122.319</td>\n      <td>1690</td>\n      <td>7639</td>\n    </tr>\n    <tr>\n      <th>2</th>\n      <td>5631500400</td>\n      <td>20150225T000000</td>\n      <td>180000.0</td>\n      <td>2</td>\n      <td>1.00</td>\n      <td>770</td>\n      <td>10000</td>\n      <td>1.0</td>\n      <td>0</td>\n      <td>0</td>\n      <td>...</td>\n      <td>6</td>\n      <td>770</td>\n      <td>0</td>\n      <td>1933</td>\n      <td>0</td>\n      <td>98028</td>\n      <td>47.7379</td>\n      <td>-122.233</td>\n      <td>2720</td>\n      <td>8062</td>\n    </tr>\n    <tr>\n      <th>3</th>\n      <td>2487200875</td>\n      <td>20141209T000000</td>\n      <td>604000.0</td>\n      <td>4</td>\n      <td>3.00</td>\n      <td>1960</td>\n      <td>5000</td>\n      <td>1.0</td>\n      <td>0</td>\n      <td>0</td>\n      <td>...</td>\n      <td>7</td>\n      <td>1050</td>\n      <td>910</td>\n      <td>1965</td>\n      <td>0</td>\n      <td>98136</td>\n      <td>47.5208</td>\n      <td>-122.393</td>\n      <td>1360</td>\n      <td>5000</td>\n    </tr>\n    <tr>\n      <th>4</th>\n      <td>1954400510</td>\n      <td>20150218T000000</td>\n      <td>510000.0</td>\n      <td>3</td>\n      <td>2.00</td>\n      <td>1680</td>\n      <td>8080</td>\n      <td>1.0</td>\n      <td>0</td>\n      <td>0</td>\n      <td>...</td>\n      <td>8</td>\n      <td>1680</td>\n      <td>0</td>\n      <td>1987</td>\n      <td>0</td>\n      <td>98074</td>\n      <td>47.6168</td>\n      <td>-122.045</td>\n      <td>1800</td>\n      <td>7503</td>\n    </tr>\n  </tbody>\n</table>\n<p>5 rows × 21 columns</p>\n</div>"
     },
     "execution_count": 110,
     "metadata": {},
     "output_type": "execute_result"
    }
   ],
   "source": [
    "df = pd.read_csv('kc_house_data.csv', sep= ',')\n",
    "df.head()"
   ],
   "metadata": {
    "collapsed": false,
    "pycharm": {
     "name": "#%%\n"
    }
   }
  },
  {
   "cell_type": "markdown",
   "source": [
    "### 1.2\n",
    "Создать новый признак delta_renovated, который будет содержать разницу в годах между годом реновацией дома и годом постройки дома\n",
    "Если реновации дома не было, то в новом признаке поставьте 0"
   ],
   "metadata": {
    "collapsed": false,
    "pycharm": {
     "name": "#%% md\n"
    }
   }
  },
  {
   "cell_type": "code",
   "execution_count": 111,
   "outputs": [
    {
     "data": {
      "text/plain": "           id             date     price  bedrooms  bathrooms  sqft_living  \\\n0  7129300520  20141013T000000  221900.0         3       1.00         1180   \n1  6414100192  20141209T000000  538000.0         3       2.25         2570   \n2  5631500400  20150225T000000  180000.0         2       1.00          770   \n3  2487200875  20141209T000000  604000.0         4       3.00         1960   \n4  1954400510  20150218T000000  510000.0         3       2.00         1680   \n\n   sqft_lot  floors  waterfront  view  ...  sqft_above  sqft_basement  \\\n0      5650     1.0           0     0  ...        1180              0   \n1      7242     2.0           0     0  ...        2170            400   \n2     10000     1.0           0     0  ...         770              0   \n3      5000     1.0           0     0  ...        1050            910   \n4      8080     1.0           0     0  ...        1680              0   \n\n   yr_built  yr_renovated  zipcode      lat     long  sqft_living15  \\\n0      1955             0    98178  47.5112 -122.257           1340   \n1      1951          1991    98125  47.7210 -122.319           1690   \n2      1933             0    98028  47.7379 -122.233           2720   \n3      1965             0    98136  47.5208 -122.393           1360   \n4      1987             0    98074  47.6168 -122.045           1800   \n\n   sqft_lot15  delta_renovated  \n0        5650                0  \n1        7639               40  \n2        8062                0  \n3        5000                0  \n4        7503                0  \n\n[5 rows x 22 columns]",
      "text/html": "<div>\n<style scoped>\n    .dataframe tbody tr th:only-of-type {\n        vertical-align: middle;\n    }\n\n    .dataframe tbody tr th {\n        vertical-align: top;\n    }\n\n    .dataframe thead th {\n        text-align: right;\n    }\n</style>\n<table border=\"1\" class=\"dataframe\">\n  <thead>\n    <tr style=\"text-align: right;\">\n      <th></th>\n      <th>id</th>\n      <th>date</th>\n      <th>price</th>\n      <th>bedrooms</th>\n      <th>bathrooms</th>\n      <th>sqft_living</th>\n      <th>sqft_lot</th>\n      <th>floors</th>\n      <th>waterfront</th>\n      <th>view</th>\n      <th>...</th>\n      <th>sqft_above</th>\n      <th>sqft_basement</th>\n      <th>yr_built</th>\n      <th>yr_renovated</th>\n      <th>zipcode</th>\n      <th>lat</th>\n      <th>long</th>\n      <th>sqft_living15</th>\n      <th>sqft_lot15</th>\n      <th>delta_renovated</th>\n    </tr>\n  </thead>\n  <tbody>\n    <tr>\n      <th>0</th>\n      <td>7129300520</td>\n      <td>20141013T000000</td>\n      <td>221900.0</td>\n      <td>3</td>\n      <td>1.00</td>\n      <td>1180</td>\n      <td>5650</td>\n      <td>1.0</td>\n      <td>0</td>\n      <td>0</td>\n      <td>...</td>\n      <td>1180</td>\n      <td>0</td>\n      <td>1955</td>\n      <td>0</td>\n      <td>98178</td>\n      <td>47.5112</td>\n      <td>-122.257</td>\n      <td>1340</td>\n      <td>5650</td>\n      <td>0</td>\n    </tr>\n    <tr>\n      <th>1</th>\n      <td>6414100192</td>\n      <td>20141209T000000</td>\n      <td>538000.0</td>\n      <td>3</td>\n      <td>2.25</td>\n      <td>2570</td>\n      <td>7242</td>\n      <td>2.0</td>\n      <td>0</td>\n      <td>0</td>\n      <td>...</td>\n      <td>2170</td>\n      <td>400</td>\n      <td>1951</td>\n      <td>1991</td>\n      <td>98125</td>\n      <td>47.7210</td>\n      <td>-122.319</td>\n      <td>1690</td>\n      <td>7639</td>\n      <td>40</td>\n    </tr>\n    <tr>\n      <th>2</th>\n      <td>5631500400</td>\n      <td>20150225T000000</td>\n      <td>180000.0</td>\n      <td>2</td>\n      <td>1.00</td>\n      <td>770</td>\n      <td>10000</td>\n      <td>1.0</td>\n      <td>0</td>\n      <td>0</td>\n      <td>...</td>\n      <td>770</td>\n      <td>0</td>\n      <td>1933</td>\n      <td>0</td>\n      <td>98028</td>\n      <td>47.7379</td>\n      <td>-122.233</td>\n      <td>2720</td>\n      <td>8062</td>\n      <td>0</td>\n    </tr>\n    <tr>\n      <th>3</th>\n      <td>2487200875</td>\n      <td>20141209T000000</td>\n      <td>604000.0</td>\n      <td>4</td>\n      <td>3.00</td>\n      <td>1960</td>\n      <td>5000</td>\n      <td>1.0</td>\n      <td>0</td>\n      <td>0</td>\n      <td>...</td>\n      <td>1050</td>\n      <td>910</td>\n      <td>1965</td>\n      <td>0</td>\n      <td>98136</td>\n      <td>47.5208</td>\n      <td>-122.393</td>\n      <td>1360</td>\n      <td>5000</td>\n      <td>0</td>\n    </tr>\n    <tr>\n      <th>4</th>\n      <td>1954400510</td>\n      <td>20150218T000000</td>\n      <td>510000.0</td>\n      <td>3</td>\n      <td>2.00</td>\n      <td>1680</td>\n      <td>8080</td>\n      <td>1.0</td>\n      <td>0</td>\n      <td>0</td>\n      <td>...</td>\n      <td>1680</td>\n      <td>0</td>\n      <td>1987</td>\n      <td>0</td>\n      <td>98074</td>\n      <td>47.6168</td>\n      <td>-122.045</td>\n      <td>1800</td>\n      <td>7503</td>\n      <td>0</td>\n    </tr>\n  </tbody>\n</table>\n<p>5 rows × 22 columns</p>\n</div>"
     },
     "execution_count": 111,
     "metadata": {},
     "output_type": "execute_result"
    }
   ],
   "source": [
    "df['delta_renovated'] = 0\n",
    "df.loc[df['yr_renovated'] !=0, 'delta_renovated'] = df['yr_renovated'] - df['yr_built']\n",
    "df.head()"
   ],
   "metadata": {
    "collapsed": false,
    "pycharm": {
     "name": "#%%\n"
    }
   }
  },
  {
   "cell_type": "markdown",
   "source": [
    "### 1.3\n",
    "Создайте признаки года продажи, месяца продажи"
   ],
   "metadata": {
    "collapsed": false,
    "pycharm": {
     "name": "#%% md\n"
    }
   }
  },
  {
   "cell_type": "code",
   "execution_count": 112,
   "outputs": [
    {
     "data": {
      "text/plain": "           id             date     price  bedrooms  bathrooms  sqft_living  \\\n0  7129300520  20141013T000000  221900.0         3       1.00         1180   \n1  6414100192  20141209T000000  538000.0         3       2.25         2570   \n2  5631500400  20150225T000000  180000.0         2       1.00          770   \n3  2487200875  20141209T000000  604000.0         4       3.00         1960   \n4  1954400510  20150218T000000  510000.0         3       2.00         1680   \n\n   sqft_lot  floors  waterfront  view  ...  yr_built  yr_renovated  zipcode  \\\n0      5650     1.0           0     0  ...      1955             0    98178   \n1      7242     2.0           0     0  ...      1951          1991    98125   \n2     10000     1.0           0     0  ...      1933             0    98028   \n3      5000     1.0           0     0  ...      1965             0    98136   \n4      8080     1.0           0     0  ...      1987             0    98074   \n\n       lat     long  sqft_living15  sqft_lot15  delta_renovated  yr_sell  \\\n0  47.5112 -122.257           1340        5650                0     2014   \n1  47.7210 -122.319           1690        7639               40     2014   \n2  47.7379 -122.233           2720        8062                0     2015   \n3  47.5208 -122.393           1360        5000                0     2014   \n4  47.6168 -122.045           1800        7503                0     2015   \n\n   month_sell  \n0          10  \n1          12  \n2          02  \n3          12  \n4          02  \n\n[5 rows x 24 columns]",
      "text/html": "<div>\n<style scoped>\n    .dataframe tbody tr th:only-of-type {\n        vertical-align: middle;\n    }\n\n    .dataframe tbody tr th {\n        vertical-align: top;\n    }\n\n    .dataframe thead th {\n        text-align: right;\n    }\n</style>\n<table border=\"1\" class=\"dataframe\">\n  <thead>\n    <tr style=\"text-align: right;\">\n      <th></th>\n      <th>id</th>\n      <th>date</th>\n      <th>price</th>\n      <th>bedrooms</th>\n      <th>bathrooms</th>\n      <th>sqft_living</th>\n      <th>sqft_lot</th>\n      <th>floors</th>\n      <th>waterfront</th>\n      <th>view</th>\n      <th>...</th>\n      <th>yr_built</th>\n      <th>yr_renovated</th>\n      <th>zipcode</th>\n      <th>lat</th>\n      <th>long</th>\n      <th>sqft_living15</th>\n      <th>sqft_lot15</th>\n      <th>delta_renovated</th>\n      <th>yr_sell</th>\n      <th>month_sell</th>\n    </tr>\n  </thead>\n  <tbody>\n    <tr>\n      <th>0</th>\n      <td>7129300520</td>\n      <td>20141013T000000</td>\n      <td>221900.0</td>\n      <td>3</td>\n      <td>1.00</td>\n      <td>1180</td>\n      <td>5650</td>\n      <td>1.0</td>\n      <td>0</td>\n      <td>0</td>\n      <td>...</td>\n      <td>1955</td>\n      <td>0</td>\n      <td>98178</td>\n      <td>47.5112</td>\n      <td>-122.257</td>\n      <td>1340</td>\n      <td>5650</td>\n      <td>0</td>\n      <td>2014</td>\n      <td>10</td>\n    </tr>\n    <tr>\n      <th>1</th>\n      <td>6414100192</td>\n      <td>20141209T000000</td>\n      <td>538000.0</td>\n      <td>3</td>\n      <td>2.25</td>\n      <td>2570</td>\n      <td>7242</td>\n      <td>2.0</td>\n      <td>0</td>\n      <td>0</td>\n      <td>...</td>\n      <td>1951</td>\n      <td>1991</td>\n      <td>98125</td>\n      <td>47.7210</td>\n      <td>-122.319</td>\n      <td>1690</td>\n      <td>7639</td>\n      <td>40</td>\n      <td>2014</td>\n      <td>12</td>\n    </tr>\n    <tr>\n      <th>2</th>\n      <td>5631500400</td>\n      <td>20150225T000000</td>\n      <td>180000.0</td>\n      <td>2</td>\n      <td>1.00</td>\n      <td>770</td>\n      <td>10000</td>\n      <td>1.0</td>\n      <td>0</td>\n      <td>0</td>\n      <td>...</td>\n      <td>1933</td>\n      <td>0</td>\n      <td>98028</td>\n      <td>47.7379</td>\n      <td>-122.233</td>\n      <td>2720</td>\n      <td>8062</td>\n      <td>0</td>\n      <td>2015</td>\n      <td>02</td>\n    </tr>\n    <tr>\n      <th>3</th>\n      <td>2487200875</td>\n      <td>20141209T000000</td>\n      <td>604000.0</td>\n      <td>4</td>\n      <td>3.00</td>\n      <td>1960</td>\n      <td>5000</td>\n      <td>1.0</td>\n      <td>0</td>\n      <td>0</td>\n      <td>...</td>\n      <td>1965</td>\n      <td>0</td>\n      <td>98136</td>\n      <td>47.5208</td>\n      <td>-122.393</td>\n      <td>1360</td>\n      <td>5000</td>\n      <td>0</td>\n      <td>2014</td>\n      <td>12</td>\n    </tr>\n    <tr>\n      <th>4</th>\n      <td>1954400510</td>\n      <td>20150218T000000</td>\n      <td>510000.0</td>\n      <td>3</td>\n      <td>2.00</td>\n      <td>1680</td>\n      <td>8080</td>\n      <td>1.0</td>\n      <td>0</td>\n      <td>0</td>\n      <td>...</td>\n      <td>1987</td>\n      <td>0</td>\n      <td>98074</td>\n      <td>47.6168</td>\n      <td>-122.045</td>\n      <td>1800</td>\n      <td>7503</td>\n      <td>0</td>\n      <td>2015</td>\n      <td>02</td>\n    </tr>\n  </tbody>\n</table>\n<p>5 rows × 24 columns</p>\n</div>"
     },
     "execution_count": 112,
     "metadata": {},
     "output_type": "execute_result"
    }
   ],
   "source": [
    "df['yr_sell'] = df['date'].apply('str')[:4]\n",
    "df['month_sell'] = df['date'].apply('str')[4:6]\n",
    "df.head()"
   ],
   "metadata": {
    "collapsed": false,
    "pycharm": {
     "name": "#%%\n"
    }
   }
  },
  {
   "cell_type": "markdown",
   "source": [
    "### 1.4\n",
    "Удалите признаки date, zipcode, lat, long"
   ],
   "metadata": {
    "collapsed": false,
    "pycharm": {
     "name": "#%% md\n"
    }
   }
  },
  {
   "cell_type": "code",
   "execution_count": 113,
   "outputs": [
    {
     "data": {
      "text/plain": "           id     price  bedrooms  bathrooms  sqft_living  sqft_lot  floors  \\\n0  7129300520  221900.0         3       1.00         1180      5650     1.0   \n1  6414100192  538000.0         3       2.25         2570      7242     2.0   \n2  5631500400  180000.0         2       1.00          770     10000     1.0   \n3  2487200875  604000.0         4       3.00         1960      5000     1.0   \n4  1954400510  510000.0         3       2.00         1680      8080     1.0   \n\n   waterfront  view  condition  grade  sqft_above  sqft_basement  yr_built  \\\n0           0     0          3      7        1180              0      1955   \n1           0     0          3      7        2170            400      1951   \n2           0     0          3      6         770              0      1933   \n3           0     0          5      7        1050            910      1965   \n4           0     0          3      8        1680              0      1987   \n\n   yr_renovated  sqft_living15  sqft_lot15  delta_renovated yr_sell month_sell  \n0             0           1340        5650                0    2014         10  \n1          1991           1690        7639               40    2014         12  \n2             0           2720        8062                0    2015         02  \n3             0           1360        5000                0    2014         12  \n4             0           1800        7503                0    2015         02  ",
      "text/html": "<div>\n<style scoped>\n    .dataframe tbody tr th:only-of-type {\n        vertical-align: middle;\n    }\n\n    .dataframe tbody tr th {\n        vertical-align: top;\n    }\n\n    .dataframe thead th {\n        text-align: right;\n    }\n</style>\n<table border=\"1\" class=\"dataframe\">\n  <thead>\n    <tr style=\"text-align: right;\">\n      <th></th>\n      <th>id</th>\n      <th>price</th>\n      <th>bedrooms</th>\n      <th>bathrooms</th>\n      <th>sqft_living</th>\n      <th>sqft_lot</th>\n      <th>floors</th>\n      <th>waterfront</th>\n      <th>view</th>\n      <th>condition</th>\n      <th>grade</th>\n      <th>sqft_above</th>\n      <th>sqft_basement</th>\n      <th>yr_built</th>\n      <th>yr_renovated</th>\n      <th>sqft_living15</th>\n      <th>sqft_lot15</th>\n      <th>delta_renovated</th>\n      <th>yr_sell</th>\n      <th>month_sell</th>\n    </tr>\n  </thead>\n  <tbody>\n    <tr>\n      <th>0</th>\n      <td>7129300520</td>\n      <td>221900.0</td>\n      <td>3</td>\n      <td>1.00</td>\n      <td>1180</td>\n      <td>5650</td>\n      <td>1.0</td>\n      <td>0</td>\n      <td>0</td>\n      <td>3</td>\n      <td>7</td>\n      <td>1180</td>\n      <td>0</td>\n      <td>1955</td>\n      <td>0</td>\n      <td>1340</td>\n      <td>5650</td>\n      <td>0</td>\n      <td>2014</td>\n      <td>10</td>\n    </tr>\n    <tr>\n      <th>1</th>\n      <td>6414100192</td>\n      <td>538000.0</td>\n      <td>3</td>\n      <td>2.25</td>\n      <td>2570</td>\n      <td>7242</td>\n      <td>2.0</td>\n      <td>0</td>\n      <td>0</td>\n      <td>3</td>\n      <td>7</td>\n      <td>2170</td>\n      <td>400</td>\n      <td>1951</td>\n      <td>1991</td>\n      <td>1690</td>\n      <td>7639</td>\n      <td>40</td>\n      <td>2014</td>\n      <td>12</td>\n    </tr>\n    <tr>\n      <th>2</th>\n      <td>5631500400</td>\n      <td>180000.0</td>\n      <td>2</td>\n      <td>1.00</td>\n      <td>770</td>\n      <td>10000</td>\n      <td>1.0</td>\n      <td>0</td>\n      <td>0</td>\n      <td>3</td>\n      <td>6</td>\n      <td>770</td>\n      <td>0</td>\n      <td>1933</td>\n      <td>0</td>\n      <td>2720</td>\n      <td>8062</td>\n      <td>0</td>\n      <td>2015</td>\n      <td>02</td>\n    </tr>\n    <tr>\n      <th>3</th>\n      <td>2487200875</td>\n      <td>604000.0</td>\n      <td>4</td>\n      <td>3.00</td>\n      <td>1960</td>\n      <td>5000</td>\n      <td>1.0</td>\n      <td>0</td>\n      <td>0</td>\n      <td>5</td>\n      <td>7</td>\n      <td>1050</td>\n      <td>910</td>\n      <td>1965</td>\n      <td>0</td>\n      <td>1360</td>\n      <td>5000</td>\n      <td>0</td>\n      <td>2014</td>\n      <td>12</td>\n    </tr>\n    <tr>\n      <th>4</th>\n      <td>1954400510</td>\n      <td>510000.0</td>\n      <td>3</td>\n      <td>2.00</td>\n      <td>1680</td>\n      <td>8080</td>\n      <td>1.0</td>\n      <td>0</td>\n      <td>0</td>\n      <td>3</td>\n      <td>8</td>\n      <td>1680</td>\n      <td>0</td>\n      <td>1987</td>\n      <td>0</td>\n      <td>1800</td>\n      <td>7503</td>\n      <td>0</td>\n      <td>2015</td>\n      <td>02</td>\n    </tr>\n  </tbody>\n</table>\n</div>"
     },
     "execution_count": 113,
     "metadata": {},
     "output_type": "execute_result"
    }
   ],
   "source": [
    "df.drop(columns= ['date', 'zipcode', 'lat', 'long'], inplace=True)\n",
    "df.head()"
   ],
   "metadata": {
    "collapsed": false,
    "pycharm": {
     "name": "#%%\n"
    }
   }
  },
  {
   "cell_type": "markdown",
   "source": [
    "## Задача 2\n",
    "Создайте датафрейм с клиентами:\n",
    "clients = pd.DataFrame({\n",
    "'client_id': [1459, 4684, 3498, 3942, 4535, 2308, 2866, 2765, 1472, 4236, 2295,\n",
    "939, 3840, 280, 20, 4332, 3475, 4213, 3113, 4809, 2134, 2242,\n",
    "2068, 4929, 1384, 1589, 3317, 2260, 1727, 1764, 1611, 1474],\n",
    "'house_id': [8965450190, 6823100225, 5104540330, 2131701075, 1522700060,\n",
    "1189000207, 6821600300, 7137950720, 9510920050, 6131600255,\n",
    "5428000070, 1788800910, 8100400160, 3123049142, 6306800010,\n",
    "5083000375, 7920100025, 1951600150, 809001400, 339600110,\n",
    "1622049154, 1099600250, 8563000110, 2768100205, 3995700435,\n",
    "8861700030, 3303980210, 7731100066, 8146100580, 825069097,\n",
    "3889100029, 9524100196]\n",
    "})"
   ],
   "metadata": {
    "collapsed": false,
    "pycharm": {
     "name": "#%% md\n"
    }
   }
  },
  {
   "cell_type": "code",
   "execution_count": 114,
   "outputs": [
    {
     "data": {
      "text/plain": "   client_id    house_id\n0       1459  8965450190\n1       4684  6823100225\n2       3498  5104540330\n3       3942  2131701075\n4       4535  1522700060",
      "text/html": "<div>\n<style scoped>\n    .dataframe tbody tr th:only-of-type {\n        vertical-align: middle;\n    }\n\n    .dataframe tbody tr th {\n        vertical-align: top;\n    }\n\n    .dataframe thead th {\n        text-align: right;\n    }\n</style>\n<table border=\"1\" class=\"dataframe\">\n  <thead>\n    <tr style=\"text-align: right;\">\n      <th></th>\n      <th>client_id</th>\n      <th>house_id</th>\n    </tr>\n  </thead>\n  <tbody>\n    <tr>\n      <th>0</th>\n      <td>1459</td>\n      <td>8965450190</td>\n    </tr>\n    <tr>\n      <th>1</th>\n      <td>4684</td>\n      <td>6823100225</td>\n    </tr>\n    <tr>\n      <th>2</th>\n      <td>3498</td>\n      <td>5104540330</td>\n    </tr>\n    <tr>\n      <th>3</th>\n      <td>3942</td>\n      <td>2131701075</td>\n    </tr>\n    <tr>\n      <th>4</th>\n      <td>4535</td>\n      <td>1522700060</td>\n    </tr>\n  </tbody>\n</table>\n</div>"
     },
     "execution_count": 114,
     "metadata": {},
     "output_type": "execute_result"
    }
   ],
   "source": [
    "clients = pd.DataFrame({\n",
    "'client_id': [1459, 4684, 3498, 3942, 4535, 2308, 2866, 2765, 1472, 4236, 2295,\n",
    "939, 3840, 280, 20, 4332, 3475, 4213, 3113, 4809, 2134, 2242,\n",
    "2068, 4929, 1384, 1589, 3317, 2260, 1727, 1764, 1611, 1474],\n",
    "'house_id': [8965450190, 6823100225, 5104540330, 2131701075, 1522700060,\n",
    "1189000207, 6821600300, 7137950720, 9510920050, 6131600255,\n",
    "5428000070, 1788800910, 8100400160, 3123049142, 6306800010,\n",
    "5083000375, 7920100025, 1951600150, 809001400, 339600110,\n",
    "1622049154, 1099600250, 8563000110, 2768100205, 3995700435,\n",
    "8861700030, 3303980210, 7731100066, 8146100580, 825069097,\n",
    "3889100029, 9524100196]\n",
    "})\n",
    "clients.head()"
   ],
   "metadata": {
    "collapsed": false,
    "pycharm": {
     "name": "#%%\n"
    }
   }
  },
  {
   "cell_type": "markdown",
   "source": [
    "### 2.1\n",
    "Присоедините к таблице clients данные по домам через метод join"
   ],
   "metadata": {
    "collapsed": false,
    "pycharm": {
     "name": "#%% md\n"
    }
   }
  },
  {
   "cell_type": "code",
   "execution_count": 115,
   "outputs": [
    {
     "data": {
      "text/plain": "            client_id     price  bedrooms  bathrooms  sqft_living  sqft_lot  \\\n339600110        4809  395000.0         3       2.50         1610      3755   \n809001400        3113  925000.0         3       1.00         1630      3200   \n825069097        1764  770000.0         3       2.50         2650     40705   \n1099600250       2242  260000.0         3       1.75         1710      6400   \n1189000207       2308  387000.0         2       2.50         1170      1394   \n1522700060       4535  518000.0         4       2.75         2520     14021   \n1622049154       2134  289900.0         3       1.75         1899     11325   \n1788800910        939  190000.0         3       1.00         1200     10458   \n1951600150       4213  180000.0         3       1.00         1610      8500   \n2131701075       3942  420000.0         3       1.75         1720      5000   \n\n            floors  waterfront  view  condition  grade  sqft_above  \\\n339600110      2.0           0     0          3      7        1610   \n809001400      1.5           0     0          4      8        1630   \n825069097      2.0           0     0          3      9        2650   \n1099600250     1.0           0     0          4      7        1240   \n1189000207     2.0           0     0          3      8        1170   \n1522700060     2.0           0     0          3      9        2520   \n1622049154     2.0           0     0          3      7        1899   \n1788800910     1.0           0     0          4      6        1200   \n1951600150     1.5           0     0          3      7        1610   \n2131701075     1.5           0     0          3      8        1720   \n\n            sqft_basement  yr_built  yr_renovated  sqft_living15  sqft_lot15  \\\n339600110               0      1987             0           1300        3823   \n809001400               0      1912             0           1710        3600   \n825069097               0      1994             0           2550       42625   \n1099600250            470      1976             0           1600        6400   \n1189000207              0      2001             0           1250        3136   \n1522700060              0      1999             0           2330       14007   \n1622049154              0      1943          2005           2000       10454   \n1788800910              0      1961             0           1160        9000   \n1951600150              0      1959             0           1070        8750   \n2131701075              0      1932          2009           1410        8300   \n\n            delta_renovated yr_sell month_sell  \n339600110                 0    2014         09  \n809001400                 0    2014         09  \n825069097                 0    2014         06  \n1099600250                0    2014         12  \n1189000207                0    2014         10  \n1522700060                0    2014         06  \n1622049154               62    2014         12  \n1788800910                0    2014         10  \n1951600150                0    2015         04  \n2131701075               77    2014         12  ",
      "text/html": "<div>\n<style scoped>\n    .dataframe tbody tr th:only-of-type {\n        vertical-align: middle;\n    }\n\n    .dataframe tbody tr th {\n        vertical-align: top;\n    }\n\n    .dataframe thead th {\n        text-align: right;\n    }\n</style>\n<table border=\"1\" class=\"dataframe\">\n  <thead>\n    <tr style=\"text-align: right;\">\n      <th></th>\n      <th>client_id</th>\n      <th>price</th>\n      <th>bedrooms</th>\n      <th>bathrooms</th>\n      <th>sqft_living</th>\n      <th>sqft_lot</th>\n      <th>floors</th>\n      <th>waterfront</th>\n      <th>view</th>\n      <th>condition</th>\n      <th>grade</th>\n      <th>sqft_above</th>\n      <th>sqft_basement</th>\n      <th>yr_built</th>\n      <th>yr_renovated</th>\n      <th>sqft_living15</th>\n      <th>sqft_lot15</th>\n      <th>delta_renovated</th>\n      <th>yr_sell</th>\n      <th>month_sell</th>\n    </tr>\n  </thead>\n  <tbody>\n    <tr>\n      <th>339600110</th>\n      <td>4809</td>\n      <td>395000.0</td>\n      <td>3</td>\n      <td>2.50</td>\n      <td>1610</td>\n      <td>3755</td>\n      <td>2.0</td>\n      <td>0</td>\n      <td>0</td>\n      <td>3</td>\n      <td>7</td>\n      <td>1610</td>\n      <td>0</td>\n      <td>1987</td>\n      <td>0</td>\n      <td>1300</td>\n      <td>3823</td>\n      <td>0</td>\n      <td>2014</td>\n      <td>09</td>\n    </tr>\n    <tr>\n      <th>809001400</th>\n      <td>3113</td>\n      <td>925000.0</td>\n      <td>3</td>\n      <td>1.00</td>\n      <td>1630</td>\n      <td>3200</td>\n      <td>1.5</td>\n      <td>0</td>\n      <td>0</td>\n      <td>4</td>\n      <td>8</td>\n      <td>1630</td>\n      <td>0</td>\n      <td>1912</td>\n      <td>0</td>\n      <td>1710</td>\n      <td>3600</td>\n      <td>0</td>\n      <td>2014</td>\n      <td>09</td>\n    </tr>\n    <tr>\n      <th>825069097</th>\n      <td>1764</td>\n      <td>770000.0</td>\n      <td>3</td>\n      <td>2.50</td>\n      <td>2650</td>\n      <td>40705</td>\n      <td>2.0</td>\n      <td>0</td>\n      <td>0</td>\n      <td>3</td>\n      <td>9</td>\n      <td>2650</td>\n      <td>0</td>\n      <td>1994</td>\n      <td>0</td>\n      <td>2550</td>\n      <td>42625</td>\n      <td>0</td>\n      <td>2014</td>\n      <td>06</td>\n    </tr>\n    <tr>\n      <th>1099600250</th>\n      <td>2242</td>\n      <td>260000.0</td>\n      <td>3</td>\n      <td>1.75</td>\n      <td>1710</td>\n      <td>6400</td>\n      <td>1.0</td>\n      <td>0</td>\n      <td>0</td>\n      <td>4</td>\n      <td>7</td>\n      <td>1240</td>\n      <td>470</td>\n      <td>1976</td>\n      <td>0</td>\n      <td>1600</td>\n      <td>6400</td>\n      <td>0</td>\n      <td>2014</td>\n      <td>12</td>\n    </tr>\n    <tr>\n      <th>1189000207</th>\n      <td>2308</td>\n      <td>387000.0</td>\n      <td>2</td>\n      <td>2.50</td>\n      <td>1170</td>\n      <td>1394</td>\n      <td>2.0</td>\n      <td>0</td>\n      <td>0</td>\n      <td>3</td>\n      <td>8</td>\n      <td>1170</td>\n      <td>0</td>\n      <td>2001</td>\n      <td>0</td>\n      <td>1250</td>\n      <td>3136</td>\n      <td>0</td>\n      <td>2014</td>\n      <td>10</td>\n    </tr>\n    <tr>\n      <th>1522700060</th>\n      <td>4535</td>\n      <td>518000.0</td>\n      <td>4</td>\n      <td>2.75</td>\n      <td>2520</td>\n      <td>14021</td>\n      <td>2.0</td>\n      <td>0</td>\n      <td>0</td>\n      <td>3</td>\n      <td>9</td>\n      <td>2520</td>\n      <td>0</td>\n      <td>1999</td>\n      <td>0</td>\n      <td>2330</td>\n      <td>14007</td>\n      <td>0</td>\n      <td>2014</td>\n      <td>06</td>\n    </tr>\n    <tr>\n      <th>1622049154</th>\n      <td>2134</td>\n      <td>289900.0</td>\n      <td>3</td>\n      <td>1.75</td>\n      <td>1899</td>\n      <td>11325</td>\n      <td>2.0</td>\n      <td>0</td>\n      <td>0</td>\n      <td>3</td>\n      <td>7</td>\n      <td>1899</td>\n      <td>0</td>\n      <td>1943</td>\n      <td>2005</td>\n      <td>2000</td>\n      <td>10454</td>\n      <td>62</td>\n      <td>2014</td>\n      <td>12</td>\n    </tr>\n    <tr>\n      <th>1788800910</th>\n      <td>939</td>\n      <td>190000.0</td>\n      <td>3</td>\n      <td>1.00</td>\n      <td>1200</td>\n      <td>10458</td>\n      <td>1.0</td>\n      <td>0</td>\n      <td>0</td>\n      <td>4</td>\n      <td>6</td>\n      <td>1200</td>\n      <td>0</td>\n      <td>1961</td>\n      <td>0</td>\n      <td>1160</td>\n      <td>9000</td>\n      <td>0</td>\n      <td>2014</td>\n      <td>10</td>\n    </tr>\n    <tr>\n      <th>1951600150</th>\n      <td>4213</td>\n      <td>180000.0</td>\n      <td>3</td>\n      <td>1.00</td>\n      <td>1610</td>\n      <td>8500</td>\n      <td>1.5</td>\n      <td>0</td>\n      <td>0</td>\n      <td>3</td>\n      <td>7</td>\n      <td>1610</td>\n      <td>0</td>\n      <td>1959</td>\n      <td>0</td>\n      <td>1070</td>\n      <td>8750</td>\n      <td>0</td>\n      <td>2015</td>\n      <td>04</td>\n    </tr>\n    <tr>\n      <th>2131701075</th>\n      <td>3942</td>\n      <td>420000.0</td>\n      <td>3</td>\n      <td>1.75</td>\n      <td>1720</td>\n      <td>5000</td>\n      <td>1.5</td>\n      <td>0</td>\n      <td>0</td>\n      <td>3</td>\n      <td>8</td>\n      <td>1720</td>\n      <td>0</td>\n      <td>1932</td>\n      <td>2009</td>\n      <td>1410</td>\n      <td>8300</td>\n      <td>77</td>\n      <td>2014</td>\n      <td>12</td>\n    </tr>\n  </tbody>\n</table>\n</div>"
     },
     "execution_count": 115,
     "metadata": {},
     "output_type": "execute_result"
    }
   ],
   "source": [
    "clients2 = clients.set_index('house_id')\n",
    "df2 = df.set_index('id')\n",
    "joined = clients2.join(df2)\n",
    "joined.head(10)"
   ],
   "metadata": {
    "collapsed": false,
    "pycharm": {
     "name": "#%%\n"
    }
   }
  },
  {
   "cell_type": "markdown",
   "source": [
    "### 2.2\n",
    "Присоедините к таблице clients данные по домам через метод merge\n",
    "Это нужно, чтобы понимать, какие дома покупались клиентами house_id - это индексы датафрейма с домами"
   ],
   "metadata": {
    "collapsed": false,
    "pycharm": {
     "name": "#%% md\n"
    }
   }
  },
  {
   "cell_type": "code",
   "execution_count": 116,
   "outputs": [
    {
     "data": {
      "text/plain": "    client_id    house_id      price  bedrooms  bathrooms  sqft_living  \\\n0        1459  8965450190   295000.0         3       2.50         1500   \n1        4684  6823100225   700000.0         4       1.75         1870   \n2        3498  5104540330   679000.0         4       2.50         3680   \n3        3942  2131701075   420000.0         3       1.75         1720   \n4        4535  1522700060   518000.0         4       2.75         2520   \n5        2308  1189000207   387000.0         2       2.50         1170   \n6        2866  6821600300   886000.0         3       2.25         2380   \n7        2765  7137950720   339100.0         4       2.50         2350   \n8        1472  9510920050   725000.0         3       2.50         2980   \n9        4236  6131600255   202500.0         3       2.00         1540   \n10       2295  5428000070   770000.0         5       3.50         4750   \n11        939  1788800910   190000.0         3       1.00         1200   \n12       3840  8100400160   700000.0         3       2.25         2330   \n13        280  3123049142   452000.0         3       2.25         2600   \n14         20  6306800010   436472.0         4       2.50         2692   \n15       4332  5083000375   170000.0         3       1.00         1310   \n16       4332  5083000375   235000.0         3       1.00         1310   \n17       3475  7920100025   450000.0         2       1.00          740   \n18       4213  1951600150   180000.0         3       1.00         1610   \n19       3113   809001400   925000.0         3       1.00         1630   \n20       4809   339600110   395000.0         3       2.50         1610   \n21       2134  1622049154   289900.0         3       1.75         1899   \n22       2242  1099600250   260000.0         3       1.75         1710   \n23       2068  8563000110   427000.0         4       1.75         1460   \n24       4929  2768100205   519000.0         4       2.50         1950   \n25       1384  3995700435   265000.0         4       3.00         1940   \n26       1589  8861700030   510000.0         3       1.50         2400   \n27       3317  3303980210  1115000.0         4       3.75         4040   \n28       2260  7731100066   545000.0         3       1.00         1510   \n29       1727  8146100580   765000.0         3       1.00         1220   \n30       1764   825069097   770000.0         3       2.50         2650   \n31       1611  3889100029   810000.0         3       2.50         2670   \n32       1474  9524100196   239000.0         2       1.50          680   \n\n    sqft_lot  floors  waterfront  view  ...  grade  sqft_above  sqft_basement  \\\n0       3060     2.0           0     0  ...      7        1500              0   \n1       6000     1.0           0     0  ...      8        1670            200   \n2       7236     2.0           0     0  ...     10        3680              0   \n3       5000     1.5           0     0  ...      8        1720              0   \n4      14021     2.0           0     0  ...      9        2520              0   \n5       1394     2.0           0     0  ...      8        1170              0   \n6       6000     2.0           0     0  ...      9        1650            730   \n7      10655     2.0           0     0  ...      8        2350              0   \n8      16996     2.0           0     0  ...     10        2980              0   \n9       8316     1.0           0     0  ...      6        1540              0   \n10      8234     2.0           0     2  ...     10        3350           1400   \n11     10458     1.0           0     0  ...      6        1200              0   \n12     11424     2.0           0     0  ...      8        2330              0   \n13     14810     1.0           0     2  ...      8        1490           1110   \n14      8392     2.0           0     0  ...      9        2692              0   \n15      9529     1.0           0     0  ...      7        1310              0   \n16      9529     1.0           0     0  ...      7        1310              0   \n17      5100     1.0           0     0  ...      7         740              0   \n18      8500     1.5           0     0  ...      7        1610              0   \n19      3200     1.5           0     0  ...      8        1630              0   \n20      3755     2.0           0     0  ...      7        1610              0   \n21     11325     2.0           0     0  ...      7        1899              0   \n22      6400     1.0           0     0  ...      7        1240            470   \n23      9750     1.0           0     0  ...      7        1460              0   \n24      2617     1.5           0     0  ...      7        1250            700   \n25      8170     1.0           0     0  ...      7        1940              0   \n26     10275     1.0           0     0  ...      8        1540            860   \n27     14212     2.0           0     0  ...     11        4040              0   \n28      5000     1.5           0     0  ...      7        1510              0   \n29      7585     1.0           0     0  ...      7        1220              0   \n30     40705     2.0           0     0  ...      9        2650              0   \n31     10481     2.0           0     0  ...      9        2670              0   \n32       772     2.0           0     0  ...      7         680              0   \n\n    yr_built  yr_renovated  sqft_living15  sqft_lot15  delta_renovated  \\\n0       1994             0           2700        7734                0   \n1       1949             0           1710        6000                0   \n2       2006             0           3310        7180                0   \n3       1932          2009           1410        8300               77   \n4       1999             0           2330       14007                0   \n5       2001             0           1250        3136                0   \n6       1931             0           2000        6000                0   \n7       1992             0           2210        7028                0   \n8       1992             0           2980       15438                0   \n9       1954             0           1250        8316                0   \n10      2013             0           2160       14496                0   \n11      1961             0           1160        9000                0   \n12      1984             0           2050       11448                0   \n13      1956             0           2450       16715                0   \n14      2014             0           2574       14446                0   \n15      1956             0           1330        9529                0   \n16      1956             0           1330        9529                0   \n17      1947             0            920        5100                0   \n18      1959             0           1070        8750                0   \n19      1912             0           1710        3600                0   \n20      1987             0           1300        3823                0   \n21      1943          2005           2000       10454               62   \n22      1976             0           1600        6400                0   \n23      1967             0           1820        9840                0   \n24      1910             0           1520        1438                0   \n25      1948             0           1310        8169                0   \n26      1964             0           2380       10125                0   \n27      2002             0           3940       14212                0   \n28      1909             0           1680        4000                0   \n29      1954             0           1380        8918                0   \n30      1994             0           2550       42625                0   \n31      2003             0           2620        8895                0   \n32      2005             0            690        1059                0   \n\n    yr_sell month_sell  \n0      2015         02  \n1      2015         04  \n2      2015         05  \n3      2014         12  \n4      2014         06  \n5      2014         10  \n6      2015         03  \n7      2015         03  \n8      2014         09  \n9      2014         12  \n10     2015         05  \n11     2014         10  \n12     2015         04  \n13     2014         08  \n14     2014         08  \n15     2014         10  \n16     2015         03  \n17     2015         04  \n18     2015         04  \n19     2014         09  \n20     2014         09  \n21     2014         12  \n22     2014         12  \n23     2015         04  \n24     2014         06  \n25     2014         07  \n26     2014         12  \n27     2015         04  \n28     2014         06  \n29     2014         10  \n30     2014         06  \n31     2014         06  \n32     2014         11  \n\n[33 rows x 21 columns]",
      "text/html": "<div>\n<style scoped>\n    .dataframe tbody tr th:only-of-type {\n        vertical-align: middle;\n    }\n\n    .dataframe tbody tr th {\n        vertical-align: top;\n    }\n\n    .dataframe thead th {\n        text-align: right;\n    }\n</style>\n<table border=\"1\" class=\"dataframe\">\n  <thead>\n    <tr style=\"text-align: right;\">\n      <th></th>\n      <th>client_id</th>\n      <th>house_id</th>\n      <th>price</th>\n      <th>bedrooms</th>\n      <th>bathrooms</th>\n      <th>sqft_living</th>\n      <th>sqft_lot</th>\n      <th>floors</th>\n      <th>waterfront</th>\n      <th>view</th>\n      <th>...</th>\n      <th>grade</th>\n      <th>sqft_above</th>\n      <th>sqft_basement</th>\n      <th>yr_built</th>\n      <th>yr_renovated</th>\n      <th>sqft_living15</th>\n      <th>sqft_lot15</th>\n      <th>delta_renovated</th>\n      <th>yr_sell</th>\n      <th>month_sell</th>\n    </tr>\n  </thead>\n  <tbody>\n    <tr>\n      <th>0</th>\n      <td>1459</td>\n      <td>8965450190</td>\n      <td>295000.0</td>\n      <td>3</td>\n      <td>2.50</td>\n      <td>1500</td>\n      <td>3060</td>\n      <td>2.0</td>\n      <td>0</td>\n      <td>0</td>\n      <td>...</td>\n      <td>7</td>\n      <td>1500</td>\n      <td>0</td>\n      <td>1994</td>\n      <td>0</td>\n      <td>2700</td>\n      <td>7734</td>\n      <td>0</td>\n      <td>2015</td>\n      <td>02</td>\n    </tr>\n    <tr>\n      <th>1</th>\n      <td>4684</td>\n      <td>6823100225</td>\n      <td>700000.0</td>\n      <td>4</td>\n      <td>1.75</td>\n      <td>1870</td>\n      <td>6000</td>\n      <td>1.0</td>\n      <td>0</td>\n      <td>0</td>\n      <td>...</td>\n      <td>8</td>\n      <td>1670</td>\n      <td>200</td>\n      <td>1949</td>\n      <td>0</td>\n      <td>1710</td>\n      <td>6000</td>\n      <td>0</td>\n      <td>2015</td>\n      <td>04</td>\n    </tr>\n    <tr>\n      <th>2</th>\n      <td>3498</td>\n      <td>5104540330</td>\n      <td>679000.0</td>\n      <td>4</td>\n      <td>2.50</td>\n      <td>3680</td>\n      <td>7236</td>\n      <td>2.0</td>\n      <td>0</td>\n      <td>0</td>\n      <td>...</td>\n      <td>10</td>\n      <td>3680</td>\n      <td>0</td>\n      <td>2006</td>\n      <td>0</td>\n      <td>3310</td>\n      <td>7180</td>\n      <td>0</td>\n      <td>2015</td>\n      <td>05</td>\n    </tr>\n    <tr>\n      <th>3</th>\n      <td>3942</td>\n      <td>2131701075</td>\n      <td>420000.0</td>\n      <td>3</td>\n      <td>1.75</td>\n      <td>1720</td>\n      <td>5000</td>\n      <td>1.5</td>\n      <td>0</td>\n      <td>0</td>\n      <td>...</td>\n      <td>8</td>\n      <td>1720</td>\n      <td>0</td>\n      <td>1932</td>\n      <td>2009</td>\n      <td>1410</td>\n      <td>8300</td>\n      <td>77</td>\n      <td>2014</td>\n      <td>12</td>\n    </tr>\n    <tr>\n      <th>4</th>\n      <td>4535</td>\n      <td>1522700060</td>\n      <td>518000.0</td>\n      <td>4</td>\n      <td>2.75</td>\n      <td>2520</td>\n      <td>14021</td>\n      <td>2.0</td>\n      <td>0</td>\n      <td>0</td>\n      <td>...</td>\n      <td>9</td>\n      <td>2520</td>\n      <td>0</td>\n      <td>1999</td>\n      <td>0</td>\n      <td>2330</td>\n      <td>14007</td>\n      <td>0</td>\n      <td>2014</td>\n      <td>06</td>\n    </tr>\n    <tr>\n      <th>5</th>\n      <td>2308</td>\n      <td>1189000207</td>\n      <td>387000.0</td>\n      <td>2</td>\n      <td>2.50</td>\n      <td>1170</td>\n      <td>1394</td>\n      <td>2.0</td>\n      <td>0</td>\n      <td>0</td>\n      <td>...</td>\n      <td>8</td>\n      <td>1170</td>\n      <td>0</td>\n      <td>2001</td>\n      <td>0</td>\n      <td>1250</td>\n      <td>3136</td>\n      <td>0</td>\n      <td>2014</td>\n      <td>10</td>\n    </tr>\n    <tr>\n      <th>6</th>\n      <td>2866</td>\n      <td>6821600300</td>\n      <td>886000.0</td>\n      <td>3</td>\n      <td>2.25</td>\n      <td>2380</td>\n      <td>6000</td>\n      <td>2.0</td>\n      <td>0</td>\n      <td>0</td>\n      <td>...</td>\n      <td>9</td>\n      <td>1650</td>\n      <td>730</td>\n      <td>1931</td>\n      <td>0</td>\n      <td>2000</td>\n      <td>6000</td>\n      <td>0</td>\n      <td>2015</td>\n      <td>03</td>\n    </tr>\n    <tr>\n      <th>7</th>\n      <td>2765</td>\n      <td>7137950720</td>\n      <td>339100.0</td>\n      <td>4</td>\n      <td>2.50</td>\n      <td>2350</td>\n      <td>10655</td>\n      <td>2.0</td>\n      <td>0</td>\n      <td>0</td>\n      <td>...</td>\n      <td>8</td>\n      <td>2350</td>\n      <td>0</td>\n      <td>1992</td>\n      <td>0</td>\n      <td>2210</td>\n      <td>7028</td>\n      <td>0</td>\n      <td>2015</td>\n      <td>03</td>\n    </tr>\n    <tr>\n      <th>8</th>\n      <td>1472</td>\n      <td>9510920050</td>\n      <td>725000.0</td>\n      <td>3</td>\n      <td>2.50</td>\n      <td>2980</td>\n      <td>16996</td>\n      <td>2.0</td>\n      <td>0</td>\n      <td>0</td>\n      <td>...</td>\n      <td>10</td>\n      <td>2980</td>\n      <td>0</td>\n      <td>1992</td>\n      <td>0</td>\n      <td>2980</td>\n      <td>15438</td>\n      <td>0</td>\n      <td>2014</td>\n      <td>09</td>\n    </tr>\n    <tr>\n      <th>9</th>\n      <td>4236</td>\n      <td>6131600255</td>\n      <td>202500.0</td>\n      <td>3</td>\n      <td>2.00</td>\n      <td>1540</td>\n      <td>8316</td>\n      <td>1.0</td>\n      <td>0</td>\n      <td>0</td>\n      <td>...</td>\n      <td>6</td>\n      <td>1540</td>\n      <td>0</td>\n      <td>1954</td>\n      <td>0</td>\n      <td>1250</td>\n      <td>8316</td>\n      <td>0</td>\n      <td>2014</td>\n      <td>12</td>\n    </tr>\n    <tr>\n      <th>10</th>\n      <td>2295</td>\n      <td>5428000070</td>\n      <td>770000.0</td>\n      <td>5</td>\n      <td>3.50</td>\n      <td>4750</td>\n      <td>8234</td>\n      <td>2.0</td>\n      <td>0</td>\n      <td>2</td>\n      <td>...</td>\n      <td>10</td>\n      <td>3350</td>\n      <td>1400</td>\n      <td>2013</td>\n      <td>0</td>\n      <td>2160</td>\n      <td>14496</td>\n      <td>0</td>\n      <td>2015</td>\n      <td>05</td>\n    </tr>\n    <tr>\n      <th>11</th>\n      <td>939</td>\n      <td>1788800910</td>\n      <td>190000.0</td>\n      <td>3</td>\n      <td>1.00</td>\n      <td>1200</td>\n      <td>10458</td>\n      <td>1.0</td>\n      <td>0</td>\n      <td>0</td>\n      <td>...</td>\n      <td>6</td>\n      <td>1200</td>\n      <td>0</td>\n      <td>1961</td>\n      <td>0</td>\n      <td>1160</td>\n      <td>9000</td>\n      <td>0</td>\n      <td>2014</td>\n      <td>10</td>\n    </tr>\n    <tr>\n      <th>12</th>\n      <td>3840</td>\n      <td>8100400160</td>\n      <td>700000.0</td>\n      <td>3</td>\n      <td>2.25</td>\n      <td>2330</td>\n      <td>11424</td>\n      <td>2.0</td>\n      <td>0</td>\n      <td>0</td>\n      <td>...</td>\n      <td>8</td>\n      <td>2330</td>\n      <td>0</td>\n      <td>1984</td>\n      <td>0</td>\n      <td>2050</td>\n      <td>11448</td>\n      <td>0</td>\n      <td>2015</td>\n      <td>04</td>\n    </tr>\n    <tr>\n      <th>13</th>\n      <td>280</td>\n      <td>3123049142</td>\n      <td>452000.0</td>\n      <td>3</td>\n      <td>2.25</td>\n      <td>2600</td>\n      <td>14810</td>\n      <td>1.0</td>\n      <td>0</td>\n      <td>2</td>\n      <td>...</td>\n      <td>8</td>\n      <td>1490</td>\n      <td>1110</td>\n      <td>1956</td>\n      <td>0</td>\n      <td>2450</td>\n      <td>16715</td>\n      <td>0</td>\n      <td>2014</td>\n      <td>08</td>\n    </tr>\n    <tr>\n      <th>14</th>\n      <td>20</td>\n      <td>6306800010</td>\n      <td>436472.0</td>\n      <td>4</td>\n      <td>2.50</td>\n      <td>2692</td>\n      <td>8392</td>\n      <td>2.0</td>\n      <td>0</td>\n      <td>0</td>\n      <td>...</td>\n      <td>9</td>\n      <td>2692</td>\n      <td>0</td>\n      <td>2014</td>\n      <td>0</td>\n      <td>2574</td>\n      <td>14446</td>\n      <td>0</td>\n      <td>2014</td>\n      <td>08</td>\n    </tr>\n    <tr>\n      <th>15</th>\n      <td>4332</td>\n      <td>5083000375</td>\n      <td>170000.0</td>\n      <td>3</td>\n      <td>1.00</td>\n      <td>1310</td>\n      <td>9529</td>\n      <td>1.0</td>\n      <td>0</td>\n      <td>0</td>\n      <td>...</td>\n      <td>7</td>\n      <td>1310</td>\n      <td>0</td>\n      <td>1956</td>\n      <td>0</td>\n      <td>1330</td>\n      <td>9529</td>\n      <td>0</td>\n      <td>2014</td>\n      <td>10</td>\n    </tr>\n    <tr>\n      <th>16</th>\n      <td>4332</td>\n      <td>5083000375</td>\n      <td>235000.0</td>\n      <td>3</td>\n      <td>1.00</td>\n      <td>1310</td>\n      <td>9529</td>\n      <td>1.0</td>\n      <td>0</td>\n      <td>0</td>\n      <td>...</td>\n      <td>7</td>\n      <td>1310</td>\n      <td>0</td>\n      <td>1956</td>\n      <td>0</td>\n      <td>1330</td>\n      <td>9529</td>\n      <td>0</td>\n      <td>2015</td>\n      <td>03</td>\n    </tr>\n    <tr>\n      <th>17</th>\n      <td>3475</td>\n      <td>7920100025</td>\n      <td>450000.0</td>\n      <td>2</td>\n      <td>1.00</td>\n      <td>740</td>\n      <td>5100</td>\n      <td>1.0</td>\n      <td>0</td>\n      <td>0</td>\n      <td>...</td>\n      <td>7</td>\n      <td>740</td>\n      <td>0</td>\n      <td>1947</td>\n      <td>0</td>\n      <td>920</td>\n      <td>5100</td>\n      <td>0</td>\n      <td>2015</td>\n      <td>04</td>\n    </tr>\n    <tr>\n      <th>18</th>\n      <td>4213</td>\n      <td>1951600150</td>\n      <td>180000.0</td>\n      <td>3</td>\n      <td>1.00</td>\n      <td>1610</td>\n      <td>8500</td>\n      <td>1.5</td>\n      <td>0</td>\n      <td>0</td>\n      <td>...</td>\n      <td>7</td>\n      <td>1610</td>\n      <td>0</td>\n      <td>1959</td>\n      <td>0</td>\n      <td>1070</td>\n      <td>8750</td>\n      <td>0</td>\n      <td>2015</td>\n      <td>04</td>\n    </tr>\n    <tr>\n      <th>19</th>\n      <td>3113</td>\n      <td>809001400</td>\n      <td>925000.0</td>\n      <td>3</td>\n      <td>1.00</td>\n      <td>1630</td>\n      <td>3200</td>\n      <td>1.5</td>\n      <td>0</td>\n      <td>0</td>\n      <td>...</td>\n      <td>8</td>\n      <td>1630</td>\n      <td>0</td>\n      <td>1912</td>\n      <td>0</td>\n      <td>1710</td>\n      <td>3600</td>\n      <td>0</td>\n      <td>2014</td>\n      <td>09</td>\n    </tr>\n    <tr>\n      <th>20</th>\n      <td>4809</td>\n      <td>339600110</td>\n      <td>395000.0</td>\n      <td>3</td>\n      <td>2.50</td>\n      <td>1610</td>\n      <td>3755</td>\n      <td>2.0</td>\n      <td>0</td>\n      <td>0</td>\n      <td>...</td>\n      <td>7</td>\n      <td>1610</td>\n      <td>0</td>\n      <td>1987</td>\n      <td>0</td>\n      <td>1300</td>\n      <td>3823</td>\n      <td>0</td>\n      <td>2014</td>\n      <td>09</td>\n    </tr>\n    <tr>\n      <th>21</th>\n      <td>2134</td>\n      <td>1622049154</td>\n      <td>289900.0</td>\n      <td>3</td>\n      <td>1.75</td>\n      <td>1899</td>\n      <td>11325</td>\n      <td>2.0</td>\n      <td>0</td>\n      <td>0</td>\n      <td>...</td>\n      <td>7</td>\n      <td>1899</td>\n      <td>0</td>\n      <td>1943</td>\n      <td>2005</td>\n      <td>2000</td>\n      <td>10454</td>\n      <td>62</td>\n      <td>2014</td>\n      <td>12</td>\n    </tr>\n    <tr>\n      <th>22</th>\n      <td>2242</td>\n      <td>1099600250</td>\n      <td>260000.0</td>\n      <td>3</td>\n      <td>1.75</td>\n      <td>1710</td>\n      <td>6400</td>\n      <td>1.0</td>\n      <td>0</td>\n      <td>0</td>\n      <td>...</td>\n      <td>7</td>\n      <td>1240</td>\n      <td>470</td>\n      <td>1976</td>\n      <td>0</td>\n      <td>1600</td>\n      <td>6400</td>\n      <td>0</td>\n      <td>2014</td>\n      <td>12</td>\n    </tr>\n    <tr>\n      <th>23</th>\n      <td>2068</td>\n      <td>8563000110</td>\n      <td>427000.0</td>\n      <td>4</td>\n      <td>1.75</td>\n      <td>1460</td>\n      <td>9750</td>\n      <td>1.0</td>\n      <td>0</td>\n      <td>0</td>\n      <td>...</td>\n      <td>7</td>\n      <td>1460</td>\n      <td>0</td>\n      <td>1967</td>\n      <td>0</td>\n      <td>1820</td>\n      <td>9840</td>\n      <td>0</td>\n      <td>2015</td>\n      <td>04</td>\n    </tr>\n    <tr>\n      <th>24</th>\n      <td>4929</td>\n      <td>2768100205</td>\n      <td>519000.0</td>\n      <td>4</td>\n      <td>2.50</td>\n      <td>1950</td>\n      <td>2617</td>\n      <td>1.5</td>\n      <td>0</td>\n      <td>0</td>\n      <td>...</td>\n      <td>7</td>\n      <td>1250</td>\n      <td>700</td>\n      <td>1910</td>\n      <td>0</td>\n      <td>1520</td>\n      <td>1438</td>\n      <td>0</td>\n      <td>2014</td>\n      <td>06</td>\n    </tr>\n    <tr>\n      <th>25</th>\n      <td>1384</td>\n      <td>3995700435</td>\n      <td>265000.0</td>\n      <td>4</td>\n      <td>3.00</td>\n      <td>1940</td>\n      <td>8170</td>\n      <td>1.0</td>\n      <td>0</td>\n      <td>0</td>\n      <td>...</td>\n      <td>7</td>\n      <td>1940</td>\n      <td>0</td>\n      <td>1948</td>\n      <td>0</td>\n      <td>1310</td>\n      <td>8169</td>\n      <td>0</td>\n      <td>2014</td>\n      <td>07</td>\n    </tr>\n    <tr>\n      <th>26</th>\n      <td>1589</td>\n      <td>8861700030</td>\n      <td>510000.0</td>\n      <td>3</td>\n      <td>1.50</td>\n      <td>2400</td>\n      <td>10275</td>\n      <td>1.0</td>\n      <td>0</td>\n      <td>0</td>\n      <td>...</td>\n      <td>8</td>\n      <td>1540</td>\n      <td>860</td>\n      <td>1964</td>\n      <td>0</td>\n      <td>2380</td>\n      <td>10125</td>\n      <td>0</td>\n      <td>2014</td>\n      <td>12</td>\n    </tr>\n    <tr>\n      <th>27</th>\n      <td>3317</td>\n      <td>3303980210</td>\n      <td>1115000.0</td>\n      <td>4</td>\n      <td>3.75</td>\n      <td>4040</td>\n      <td>14212</td>\n      <td>2.0</td>\n      <td>0</td>\n      <td>0</td>\n      <td>...</td>\n      <td>11</td>\n      <td>4040</td>\n      <td>0</td>\n      <td>2002</td>\n      <td>0</td>\n      <td>3940</td>\n      <td>14212</td>\n      <td>0</td>\n      <td>2015</td>\n      <td>04</td>\n    </tr>\n    <tr>\n      <th>28</th>\n      <td>2260</td>\n      <td>7731100066</td>\n      <td>545000.0</td>\n      <td>3</td>\n      <td>1.00</td>\n      <td>1510</td>\n      <td>5000</td>\n      <td>1.5</td>\n      <td>0</td>\n      <td>0</td>\n      <td>...</td>\n      <td>7</td>\n      <td>1510</td>\n      <td>0</td>\n      <td>1909</td>\n      <td>0</td>\n      <td>1680</td>\n      <td>4000</td>\n      <td>0</td>\n      <td>2014</td>\n      <td>06</td>\n    </tr>\n    <tr>\n      <th>29</th>\n      <td>1727</td>\n      <td>8146100580</td>\n      <td>765000.0</td>\n      <td>3</td>\n      <td>1.00</td>\n      <td>1220</td>\n      <td>7585</td>\n      <td>1.0</td>\n      <td>0</td>\n      <td>0</td>\n      <td>...</td>\n      <td>7</td>\n      <td>1220</td>\n      <td>0</td>\n      <td>1954</td>\n      <td>0</td>\n      <td>1380</td>\n      <td>8918</td>\n      <td>0</td>\n      <td>2014</td>\n      <td>10</td>\n    </tr>\n    <tr>\n      <th>30</th>\n      <td>1764</td>\n      <td>825069097</td>\n      <td>770000.0</td>\n      <td>3</td>\n      <td>2.50</td>\n      <td>2650</td>\n      <td>40705</td>\n      <td>2.0</td>\n      <td>0</td>\n      <td>0</td>\n      <td>...</td>\n      <td>9</td>\n      <td>2650</td>\n      <td>0</td>\n      <td>1994</td>\n      <td>0</td>\n      <td>2550</td>\n      <td>42625</td>\n      <td>0</td>\n      <td>2014</td>\n      <td>06</td>\n    </tr>\n    <tr>\n      <th>31</th>\n      <td>1611</td>\n      <td>3889100029</td>\n      <td>810000.0</td>\n      <td>3</td>\n      <td>2.50</td>\n      <td>2670</td>\n      <td>10481</td>\n      <td>2.0</td>\n      <td>0</td>\n      <td>0</td>\n      <td>...</td>\n      <td>9</td>\n      <td>2670</td>\n      <td>0</td>\n      <td>2003</td>\n      <td>0</td>\n      <td>2620</td>\n      <td>8895</td>\n      <td>0</td>\n      <td>2014</td>\n      <td>06</td>\n    </tr>\n    <tr>\n      <th>32</th>\n      <td>1474</td>\n      <td>9524100196</td>\n      <td>239000.0</td>\n      <td>2</td>\n      <td>1.50</td>\n      <td>680</td>\n      <td>772</td>\n      <td>2.0</td>\n      <td>0</td>\n      <td>0</td>\n      <td>...</td>\n      <td>7</td>\n      <td>680</td>\n      <td>0</td>\n      <td>2005</td>\n      <td>0</td>\n      <td>690</td>\n      <td>1059</td>\n      <td>0</td>\n      <td>2014</td>\n      <td>11</td>\n    </tr>\n  </tbody>\n</table>\n<p>33 rows × 21 columns</p>\n</div>"
     },
     "execution_count": 116,
     "metadata": {},
     "output_type": "execute_result"
    }
   ],
   "source": [
    "merged = clients.merge(df, left_on= 'house_id', right_on= 'id')\n",
    "merged.drop(columns= 'id', inplace= True)\n",
    "merged"
   ],
   "metadata": {
    "collapsed": false,
    "pycharm": {
     "name": "#%%\n"
    }
   }
  },
  {
   "cell_type": "markdown",
   "source": [
    "## Задача 3\n",
    "Составьте несколько сводных таблиц\n",
    "### 3.1\n",
    "Найдите среднюю стоимость домов в зависимости от количества спален\n",
    "Отсортируйте от меньшей стоимости к большей"
   ],
   "metadata": {
    "collapsed": false,
    "pycharm": {
     "name": "#%% md\n"
    }
   }
  },
  {
   "cell_type": "code",
   "execution_count": 117,
   "outputs": [
    {
     "data": {
      "text/plain": "                 price\nbedrooms              \n1         3.176429e+05\n2         4.013727e+05\n0         4.095038e+05\n3         4.662321e+05\n11        5.200000e+05\n4         6.354195e+05\n33        6.400000e+05\n5         7.865998e+05\n10        8.193333e+05\n6         8.255206e+05\n9         8.939998e+05\n7         9.511847e+05\n8         1.105077e+06",
      "text/html": "<div>\n<style scoped>\n    .dataframe tbody tr th:only-of-type {\n        vertical-align: middle;\n    }\n\n    .dataframe tbody tr th {\n        vertical-align: top;\n    }\n\n    .dataframe thead th {\n        text-align: right;\n    }\n</style>\n<table border=\"1\" class=\"dataframe\">\n  <thead>\n    <tr style=\"text-align: right;\">\n      <th></th>\n      <th>price</th>\n    </tr>\n    <tr>\n      <th>bedrooms</th>\n      <th></th>\n    </tr>\n  </thead>\n  <tbody>\n    <tr>\n      <th>1</th>\n      <td>3.176429e+05</td>\n    </tr>\n    <tr>\n      <th>2</th>\n      <td>4.013727e+05</td>\n    </tr>\n    <tr>\n      <th>0</th>\n      <td>4.095038e+05</td>\n    </tr>\n    <tr>\n      <th>3</th>\n      <td>4.662321e+05</td>\n    </tr>\n    <tr>\n      <th>11</th>\n      <td>5.200000e+05</td>\n    </tr>\n    <tr>\n      <th>4</th>\n      <td>6.354195e+05</td>\n    </tr>\n    <tr>\n      <th>33</th>\n      <td>6.400000e+05</td>\n    </tr>\n    <tr>\n      <th>5</th>\n      <td>7.865998e+05</td>\n    </tr>\n    <tr>\n      <th>10</th>\n      <td>8.193333e+05</td>\n    </tr>\n    <tr>\n      <th>6</th>\n      <td>8.255206e+05</td>\n    </tr>\n    <tr>\n      <th>9</th>\n      <td>8.939998e+05</td>\n    </tr>\n    <tr>\n      <th>7</th>\n      <td>9.511847e+05</td>\n    </tr>\n    <tr>\n      <th>8</th>\n      <td>1.105077e+06</td>\n    </tr>\n  </tbody>\n</table>\n</div>"
     },
     "execution_count": 117,
     "metadata": {},
     "output_type": "execute_result"
    }
   ],
   "source": [
    "df.groupby('bedrooms').agg({'price':'mean'}).sort_values(by= 'price')"
   ],
   "metadata": {
    "collapsed": false,
    "pycharm": {
     "name": "#%%\n"
    }
   }
  },
  {
   "cell_type": "markdown",
   "source": [
    "### 3.3\n",
    "Постройте таблицу с подсчетом количества домов в данных в зависимости от вида на набережную и оценкой вида"
   ],
   "metadata": {
    "collapsed": false,
    "pycharm": {
     "name": "#%% md\n"
    }
   }
  },
  {
   "cell_type": "code",
   "execution_count": 118,
   "outputs": [
    {
     "data": {
      "text/plain": "view            0    1    2    3    4\nwaterfront                           \n0           19489  331  955  491  184\n1               0    1    8   19  135",
      "text/html": "<div>\n<style scoped>\n    .dataframe tbody tr th:only-of-type {\n        vertical-align: middle;\n    }\n\n    .dataframe tbody tr th {\n        vertical-align: top;\n    }\n\n    .dataframe thead th {\n        text-align: right;\n    }\n</style>\n<table border=\"1\" class=\"dataframe\">\n  <thead>\n    <tr style=\"text-align: right;\">\n      <th>view</th>\n      <th>0</th>\n      <th>1</th>\n      <th>2</th>\n      <th>3</th>\n      <th>4</th>\n    </tr>\n    <tr>\n      <th>waterfront</th>\n      <th></th>\n      <th></th>\n      <th></th>\n      <th></th>\n      <th></th>\n    </tr>\n  </thead>\n  <tbody>\n    <tr>\n      <th>0</th>\n      <td>19489</td>\n      <td>331</td>\n      <td>955</td>\n      <td>491</td>\n      <td>184</td>\n    </tr>\n    <tr>\n      <th>1</th>\n      <td>0</td>\n      <td>1</td>\n      <td>8</td>\n      <td>19</td>\n      <td>135</td>\n    </tr>\n  </tbody>\n</table>\n</div>"
     },
     "execution_count": 118,
     "metadata": {},
     "output_type": "execute_result"
    }
   ],
   "source": [
    "pd.crosstab(index= df['waterfront'], columns= df['view'])"
   ],
   "metadata": {
    "collapsed": false,
    "pycharm": {
     "name": "#%%\n"
    }
   }
  },
  {
   "cell_type": "markdown",
   "source": [
    "### 3.4\n",
    "Каких домов в зависимости от этажности и количества спален больше?"
   ],
   "metadata": {
    "collapsed": false,
    "pycharm": {
     "name": "#%% md\n"
    }
   }
  },
  {
   "cell_type": "code",
   "execution_count": 120,
   "outputs": [
    {
     "name": "stdout",
     "output_type": "stream",
     "text": [
      "Maximum 5455 houses with 1.0 floors and 3 bedrooms\n"
     ]
    }
   ],
   "source": [
    "def Element_ID(dataframe):\n",
    "    for i in range(len(dataframe.index)):\n",
    "        for j in range(len(dataframe.columns)):\n",
    "            if dataframe.iloc[i,j] == dataframe.values.max():\n",
    "                return i,j\n",
    "dfbb = df.pivot_table(index= 'floors', columns= 'bedrooms', values= 'id', aggfunc= 'count', fill_value=0)\n",
    "print(f'Maximum {dfbb.iloc[Element_ID(dfbb)[0],Element_ID(dfbb)[1]]} houses with {dfbb.index[Element_ID(dfbb)[0]]} floors and {dfbb.columns[Element_ID(dfbb)[1]]} bedrooms')\n",
    "\n"
   ],
   "metadata": {
    "collapsed": false,
    "pycharm": {
     "name": "#%%\n"
    }
   }
  },
  {
   "cell_type": "markdown",
   "source": [
    "### 3.5\n",
    "Постройте таблицу с подсчетом медианной стоимости домов в данных в зависимости от состояния дома и оценки дома"
   ],
   "metadata": {
    "collapsed": false,
    "pycharm": {
     "name": "#%% md\n"
    }
   }
  },
  {
   "cell_type": "code",
   "execution_count": 122,
   "outputs": [
    {
     "data": {
      "text/plain": "grade          1       3       4              5              6   \\\ncondition                                                         \n1          142000       0  150000  280833.333333  303813.636364   \n2               0  280000  179600  206166.666667  269483.898305   \n3               0   75000  210000  246993.460000  290651.847343   \n4               0       0  243905  245299.011905  318731.570803   \n5               0  262000       0  271127.588235  310140.858871   \n\ngrade                 7              8             9             10  \\\ncondition                                                             \n1          334416.666667  932500.000000  0.000000e+00  0.000000e+00   \n2          342698.520000  421996.153846  7.150000e+05  1.752500e+06   \n3          385666.785823  510102.771609  7.265878e+05  1.012934e+06   \n4          412923.073420  589527.303443  8.896645e+05  1.176285e+06   \n5          479667.746699  736538.048718  1.123420e+06  1.735830e+06   \n\ngrade                11            12            13  \ncondition                                            \n1          0.000000e+00  0.000000e+00  0.000000e+00  \n2          0.000000e+00  0.000000e+00  0.000000e+00  \n3          1.414401e+06  2.138601e+06  3.338636e+06  \n4          1.839916e+06  2.467962e+06  5.750000e+06  \n5          2.238477e+06  2.290000e+06  0.000000e+00  ",
      "text/html": "<div>\n<style scoped>\n    .dataframe tbody tr th:only-of-type {\n        vertical-align: middle;\n    }\n\n    .dataframe tbody tr th {\n        vertical-align: top;\n    }\n\n    .dataframe thead th {\n        text-align: right;\n    }\n</style>\n<table border=\"1\" class=\"dataframe\">\n  <thead>\n    <tr style=\"text-align: right;\">\n      <th>grade</th>\n      <th>1</th>\n      <th>3</th>\n      <th>4</th>\n      <th>5</th>\n      <th>6</th>\n      <th>7</th>\n      <th>8</th>\n      <th>9</th>\n      <th>10</th>\n      <th>11</th>\n      <th>12</th>\n      <th>13</th>\n    </tr>\n    <tr>\n      <th>condition</th>\n      <th></th>\n      <th></th>\n      <th></th>\n      <th></th>\n      <th></th>\n      <th></th>\n      <th></th>\n      <th></th>\n      <th></th>\n      <th></th>\n      <th></th>\n      <th></th>\n    </tr>\n  </thead>\n  <tbody>\n    <tr>\n      <th>1</th>\n      <td>142000</td>\n      <td>0</td>\n      <td>150000</td>\n      <td>280833.333333</td>\n      <td>303813.636364</td>\n      <td>334416.666667</td>\n      <td>932500.000000</td>\n      <td>0.000000e+00</td>\n      <td>0.000000e+00</td>\n      <td>0.000000e+00</td>\n      <td>0.000000e+00</td>\n      <td>0.000000e+00</td>\n    </tr>\n    <tr>\n      <th>2</th>\n      <td>0</td>\n      <td>280000</td>\n      <td>179600</td>\n      <td>206166.666667</td>\n      <td>269483.898305</td>\n      <td>342698.520000</td>\n      <td>421996.153846</td>\n      <td>7.150000e+05</td>\n      <td>1.752500e+06</td>\n      <td>0.000000e+00</td>\n      <td>0.000000e+00</td>\n      <td>0.000000e+00</td>\n    </tr>\n    <tr>\n      <th>3</th>\n      <td>0</td>\n      <td>75000</td>\n      <td>210000</td>\n      <td>246993.460000</td>\n      <td>290651.847343</td>\n      <td>385666.785823</td>\n      <td>510102.771609</td>\n      <td>7.265878e+05</td>\n      <td>1.012934e+06</td>\n      <td>1.414401e+06</td>\n      <td>2.138601e+06</td>\n      <td>3.338636e+06</td>\n    </tr>\n    <tr>\n      <th>4</th>\n      <td>0</td>\n      <td>0</td>\n      <td>243905</td>\n      <td>245299.011905</td>\n      <td>318731.570803</td>\n      <td>412923.073420</td>\n      <td>589527.303443</td>\n      <td>8.896645e+05</td>\n      <td>1.176285e+06</td>\n      <td>1.839916e+06</td>\n      <td>2.467962e+06</td>\n      <td>5.750000e+06</td>\n    </tr>\n    <tr>\n      <th>5</th>\n      <td>0</td>\n      <td>262000</td>\n      <td>0</td>\n      <td>271127.588235</td>\n      <td>310140.858871</td>\n      <td>479667.746699</td>\n      <td>736538.048718</td>\n      <td>1.123420e+06</td>\n      <td>1.735830e+06</td>\n      <td>2.238477e+06</td>\n      <td>2.290000e+06</td>\n      <td>0.000000e+00</td>\n    </tr>\n  </tbody>\n</table>\n</div>"
     },
     "execution_count": 122,
     "metadata": {},
     "output_type": "execute_result"
    }
   ],
   "source": [
    "df.pivot_table(index= 'condition', columns= 'grade', values= 'price', aggfunc= 'mean', fill_value=0)"
   ],
   "metadata": {
    "collapsed": false,
    "pycharm": {
     "name": "#%%\n"
    }
   }
  }
 ],
 "metadata": {
  "kernelspec": {
   "display_name": "Python 3",
   "language": "python",
   "name": "python3"
  },
  "language_info": {
   "codemirror_mode": {
    "name": "ipython",
    "version": 2
   },
   "file_extension": ".py",
   "mimetype": "text/x-python",
   "name": "python",
   "nbconvert_exporter": "python",
   "pygments_lexer": "ipython2",
   "version": "2.7.6"
  }
 },
 "nbformat": 4,
 "nbformat_minor": 0
}